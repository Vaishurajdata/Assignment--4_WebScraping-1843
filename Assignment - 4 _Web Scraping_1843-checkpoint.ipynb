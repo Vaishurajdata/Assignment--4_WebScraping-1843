{
 "cells": [
  {
   "cell_type": "code",
   "execution_count": null,
   "id": "e00b2095",
   "metadata": {},
   "outputs": [],
   "source": [
    "#  I tried a lot for finding out the solutions and failed by getting many errors in the problems .\n",
    "I dont now how to save in CSV file and as Dataframe.\n",
    "# Tried to an extent, and require some more time to get completed \n",
    "---as Datatrained mentors ate also giving assignments - no time to workout in my job routine - \n",
    "Kindly Accept the request."
   ]
  },
  {
   "cell_type": "code",
   "execution_count": 138,
   "id": "7a8e8873",
   "metadata": {},
   "outputs": [],
   "source": [
    "# Importing necessary libraries\n",
    "import pandas as pd\n",
    "import selenium\n",
    "from bs4 import BeautifulSoup\n",
    "\n",
    "import time\n",
    "from selenium import webdriver\n",
    "from selenium.webdriver.common.by import By\n",
    "import requests\n",
    "import re\n",
    "\n",
    "\n",
    "from selenium.common.exceptions import NoSuchElementException, StaleElementReferenceException\n",
    "from selenium.webdriver.support.ui import WebDriverWait\n",
    "from selenium.webdriver.chrome.service import Service\n",
    "from webdriver_manager.chrome import ChromeDriverManager\n"
   ]
  },
  {
   "cell_type": "markdown",
   "id": "9426739b",
   "metadata": {},
   "source": [
    "# Q1: Write a python program which searches all the product under a particular product vertical from www.amazon.in. The product verticals to be searched will be taken as input from user. For e.g. If user input is ‘guitar’. Then search for guitars."
   ]
  },
  {
   "cell_type": "code",
   "execution_count": 78,
   "id": "14c66445",
   "metadata": {},
   "outputs": [],
   "source": [
    "driver = webdriver.Chrome(service=Service(ChromeDriverManager().install()))\n",
    "\n",
    "# getting the webpage of mentioned url\n",
    "url = \"https://www.amazon.in/\"\n",
    "driver.get(url)"
   ]
  },
  {
   "cell_type": "code",
   "execution_count": 36,
   "id": "3487190c",
   "metadata": {},
   "outputs": [
    {
     "ename": "AttributeError",
     "evalue": "'WebDriver' object has no attribute 'find_elements_by_xpath'",
     "output_type": "error",
     "traceback": [
      "\u001b[1;31m---------------------------------------------------------------------------\u001b[0m",
      "\u001b[1;31mAttributeError\u001b[0m                            Traceback (most recent call last)",
      "\u001b[1;32m~\\AppData\\Local\\Temp/ipykernel_24844/82519735.py\u001b[0m in \u001b[0;36m<module>\u001b[1;34m\u001b[0m\n\u001b[0;32m      2\u001b[0m \u001b[0murls\u001b[0m \u001b[1;33m=\u001b[0m \u001b[1;33m[\u001b[0m\u001b[1;33m]\u001b[0m          \u001b[1;31m# empty list\u001b[0m\u001b[1;33m\u001b[0m\u001b[1;33m\u001b[0m\u001b[0m\n\u001b[0;32m      3\u001b[0m \u001b[1;32mfor\u001b[0m \u001b[0mi\u001b[0m \u001b[1;32min\u001b[0m \u001b[0mrange\u001b[0m\u001b[1;33m(\u001b[0m\u001b[1;36m0\u001b[0m\u001b[1;33m,\u001b[0m\u001b[1;36m3\u001b[0m\u001b[1;33m)\u001b[0m\u001b[1;33m:\u001b[0m      \u001b[1;31m# for loop to scrape 3 pages\u001b[0m\u001b[1;33m\u001b[0m\u001b[1;33m\u001b[0m\u001b[0m\n\u001b[1;32m----> 4\u001b[1;33m     \u001b[0mpage_url\u001b[0m \u001b[1;33m=\u001b[0m \u001b[0mdriver\u001b[0m\u001b[1;33m.\u001b[0m\u001b[0mfind_elements_by_xpath\u001b[0m\u001b[1;33m(\u001b[0m\u001b[1;34m\"//a[@class='a-link-normal a-text-normal']\"\u001b[0m\u001b[1;33m)\u001b[0m\u001b[1;33m\u001b[0m\u001b[1;33m\u001b[0m\u001b[0m\n\u001b[0m\u001b[0;32m      5\u001b[0m     \u001b[1;32mfor\u001b[0m \u001b[0mi\u001b[0m \u001b[1;32min\u001b[0m \u001b[0mpage_url\u001b[0m\u001b[1;33m:\u001b[0m\u001b[1;33m\u001b[0m\u001b[1;33m\u001b[0m\u001b[0m\n\u001b[0;32m      6\u001b[0m         \u001b[0murls\u001b[0m\u001b[1;33m.\u001b[0m\u001b[0mappend\u001b[0m\u001b[1;33m(\u001b[0m\u001b[0mi\u001b[0m\u001b[1;33m.\u001b[0m\u001b[0mget_attribute\u001b[0m\u001b[1;33m(\u001b[0m\u001b[1;34m\"href\"\u001b[0m\u001b[1;33m)\u001b[0m\u001b[1;33m)\u001b[0m\u001b[1;33m\u001b[0m\u001b[1;33m\u001b[0m\u001b[0m\n",
      "\u001b[1;31mAttributeError\u001b[0m: 'WebDriver' object has no attribute 'find_elements_by_xpath'"
     ]
    }
   ],
   "source": [
    "# fetching URLs to open the pages\n",
    "urls = []          # empty list\n",
    "for i in range(0,3):      # for loop to scrape 3 pages\n",
    "    page_url = driver.find_elements_by_xpath(\"//a[@class='a-link-normal a-text-normal']\")\n",
    "    for i in page_url:\n",
    "        urls.append(i.get_attribute(\"href\"))\n",
    "        next_btn = driver.find_element_by_xpath(\"//li[@class='a-last']/a\")\n",
    "        time.sleep(3)"
   ]
  },
  {
   "cell_type": "code",
   "execution_count": 24,
   "id": "b8f63e57",
   "metadata": {},
   "outputs": [
    {
     "data": {
      "text/plain": [
       "0"
      ]
     },
     "execution_count": 24,
     "metadata": {},
     "output_type": "execute_result"
    }
   ],
   "source": [
    "len(urls)"
   ]
  },
  {
   "cell_type": "code",
   "execution_count": 25,
   "id": "79235dbe",
   "metadata": {},
   "outputs": [],
   "source": [
    "# making empty list and fetching required data\n",
    "brand_name = []\n",
    "product_name = []\n",
    "ratings = []\n",
    "num_ratings = []\n",
    "prices = []\n",
    "exchange = []\n",
    "exp_delivery = []\n",
    "availability = []\n",
    "other_details = []\n",
    "\n",
    "for i in urls:\n",
    "    driver.get(i)\n",
    "    time.sleep(3)\n",
    "    \n",
    "    \n",
    "    #fetching brand name \n",
    "    try:\n",
    "        brand = driver.find_element_by_xpath(\"//a[@id='bylineInfo']\")\n",
    "        brand_name.append(brand.text)\n",
    "    except NoSuchElementException:\n",
    "        brand_name.append('-')\n",
    "    \n",
    "    \n",
    "    # fetching Name of the Product\n",
    "    try:\n",
    "        product = driver.find_element_by_xpath(\"//span[@id='productTitle']\")\n",
    "        product_name.append(product.text)\n",
    "    except NoSuchElementException:\n",
    "        product_name.append('-')\n",
    "        \n",
    "        \n",
    "\n",
    "     #fetching ratings\n",
    "    try:\n",
    "        rating = driver.find_element_by_xpath(\"//span[@class='a-size-base a-nowrap']/span\")\n",
    "        ratings.append(rating.text)\n",
    "    except NoSuchElementException:\n",
    "        ratings.append('-')\n",
    "        \n",
    " \n",
    "    #fetching  no of ratings\n",
    "    try:\n",
    "        num_rating = driver.find_element_by_xpath(\"//span[@id='acrCustomerReviewText']\")\n",
    "        num_ratings.append(num_rating.text)\n",
    "    except NoSuchElementException:\n",
    "        num_ratings.append('-')\n",
    "        \n",
    "\n",
    "    #fetching price of the product\n",
    "    try:\n",
    "        price = driver.find_element_by_xpath(\"//td[@class='a-span12']\")\n",
    "        prices.append(price.text)\n",
    "    except NoSuchElementException:\n",
    "        prices.append('-')\n",
    "        \n",
    "        \n",
    "    #fetching return/exchange\n",
    "    try:\n",
    "        exch = driver.find_element_by_xpath(\"//span[@class='a-declarative']/div/a\")\n",
    "        exchange.append(exch.text)\n",
    "    except NoSuchElementException:\n",
    "        exchange.append('-')\n",
    "        \n",
    "\n",
    "    #fetching expected delivery\n",
    "    try:\n",
    "        delivery = driver.find_element_by_xpath(\"//div[@class='a-section a-spacing-mini']/b\")\n",
    "        exp_delivery.append(delivery.text)\n",
    "    except NoSuchElementException:\n",
    "        exp_delivery.append('-')\n",
    "        \n",
    "\n",
    "    #fetching availability information\n",
    "    try:\n",
    "        avail = driver.find_element_by_xpath(\"//span[@class='a-size-medium a-color-success']\")\n",
    "        availability.append(avail.text)\n",
    "    except NoSuchElementException:\n",
    "        availability.append('-')\n",
    "        \n",
    "    #other details\n",
    "    try:\n",
    "        oth_det = driver.find_element_by_xpath(\"//ul[@class='a-unordered-list a-vertical a-spacing-mini']\")\n",
    "        other_details.append(oth_det.text)\n",
    "    except NoSuchElementException:\n",
    "        other_details.append('-')\n",
    "        "
   ]
  },
  {
   "cell_type": "code",
   "execution_count": 26,
   "id": "d4a62220",
   "metadata": {},
   "outputs": [
    {
     "name": "stdout",
     "output_type": "stream",
     "text": [
      "0 0 0 0 0 0 0 0 0\n"
     ]
    }
   ],
   "source": [
    "print(len(brand_name),\n",
    "len(product_name),\n",
    "len(ratings),\n",
    "len(num_ratings),\n",
    "len(prices),\n",
    "len(exchange),\n",
    "len(exp_delivery),\n",
    "len(availability),\n",
    "len(other_details))"
   ]
  },
  {
   "cell_type": "code",
   "execution_count": 27,
   "id": "d453b556",
   "metadata": {},
   "outputs": [
    {
     "data": {
      "text/html": [
       "<div>\n",
       "<style scoped>\n",
       "    .dataframe tbody tr th:only-of-type {\n",
       "        vertical-align: middle;\n",
       "    }\n",
       "\n",
       "    .dataframe tbody tr th {\n",
       "        vertical-align: top;\n",
       "    }\n",
       "\n",
       "    .dataframe thead th {\n",
       "        text-align: right;\n",
       "    }\n",
       "</style>\n",
       "<table border=\"1\" class=\"dataframe\">\n",
       "  <thead>\n",
       "    <tr style=\"text-align: right;\">\n",
       "      <th></th>\n",
       "      <th>Brand Name</th>\n",
       "      <th>Name of the Product</th>\n",
       "      <th>Rating</th>\n",
       "      <th>No. of Ratings</th>\n",
       "      <th>Price</th>\n",
       "      <th>Return/Exchange</th>\n",
       "      <th>Expected Delivery</th>\n",
       "      <th>Availability</th>\n",
       "      <th>Other Details</th>\n",
       "      <th>Product URL</th>\n",
       "    </tr>\n",
       "  </thead>\n",
       "  <tbody>\n",
       "  </tbody>\n",
       "</table>\n",
       "</div>"
      ],
      "text/plain": [
       "Empty DataFrame\n",
       "Columns: [Brand Name, Name of the Product, Rating, No. of Ratings, Price, Return/Exchange, Expected Delivery, Availability, Other Details, Product URL]\n",
       "Index: []"
      ]
     },
     "execution_count": 27,
     "metadata": {},
     "output_type": "execute_result"
    }
   ],
   "source": [
    "# Creating the DataFrame for the scraped data\n",
    "\n",
    "guitar = pd.DataFrame({})\n",
    "guitar['Brand Name'] = brand_name\n",
    "guitar['Name of the Product'] = product_name\n",
    "guitar['Rating'] = ratings\n",
    "guitar['No. of Ratings'] = num_ratings\n",
    "guitar['Price'] = prices\n",
    "guitar['Return/Exchange'] = exchange\n",
    "guitar['Expected Delivery'] = exp_delivery\n",
    "guitar['Availability'] = availability\n",
    "guitar['Other Details'] = other_details\n",
    "guitar['Product URL'] = urls\n",
    "guitar"
   ]
  },
  {
   "cell_type": "code",
   "execution_count": 37,
   "id": "d10d1bd2",
   "metadata": {},
   "outputs": [],
   "source": [
    "#saving the data in csv\n",
    "guitar.to_csv(\"Guitar.csv\")"
   ]
  },
  {
   "cell_type": "code",
   "execution_count": null,
   "id": "7b16d5eb",
   "metadata": {},
   "outputs": [],
   "source": [
    "driver.close()"
   ]
  },
  {
   "cell_type": "markdown",
   "id": "0e044153",
   "metadata": {},
   "source": [
    "# Q3.Write a python program to access the search bar and search button on images.google.com and scrape 100 images each for keywords ‘fruits’, ‘cars’ and ‘Machine Learning’."
   ]
  },
  {
   "cell_type": "code",
   "execution_count": 39,
   "id": "61fd3a18",
   "metadata": {},
   "outputs": [],
   "source": [
    "driver = webdriver.Chrome(service=Service(ChromeDriverManager().install()))\n",
    "\n",
    "# geting the webpage of mentioned url\n",
    "URL = \"http://images.google.com/\"\n"
   ]
  },
  {
   "cell_type": "code",
   "execution_count": 47,
   "id": "68d656f2",
   "metadata": {},
   "outputs": [
    {
     "ename": "IndentationError",
     "evalue": "expected an indented block (Temp/ipykernel_24844/425229616.py, line 25)",
     "output_type": "error",
     "traceback": [
      "\u001b[1;36m  File \u001b[1;32m\"C:\\Users\\satya\\AppData\\Local\\Temp/ipykernel_24844/425229616.py\"\u001b[1;36m, line \u001b[1;32m25\u001b[0m\n\u001b[1;33m    if i >= 300:\u001b[0m\n\u001b[1;37m    ^\u001b[0m\n\u001b[1;31mIndentationError\u001b[0m\u001b[1;31m:\u001b[0m expected an indented block\n"
     ]
    }
   ],
   "source": [
    "\n",
    "    \n",
    "    # finding webelement for search_bar\n",
    "    search_bar = driver.find_element_by_tag_name(\"input\")\n",
    "    \n",
    "    # sending keys to get the keyword for search bar\n",
    "    search_bar.send_keys(str(item))\n",
    "    \n",
    "    # clicking on search button\n",
    "    search_button = driver.find_element_by_xpath(\"//button[@class='Tg7LZd']\").click()\n",
    "    \n",
    "    # scroling down the webpage to get some more images\n",
    "    for _ in range(500):\n",
    "        driver.execute_script(\"window.scrollBy(0,100)\")\n",
    "        \n",
    "        imgs = driver.find_elements_by_xpath(\"//img[@class='rg_i Q4LuWd']\")\n",
    "    img_url = []\n",
    "    for image in imgs:\n",
    "        source = image.get_attribute('src')\n",
    "        if source is not None:\n",
    "            if(source[0:4] == 'http'):\n",
    "                img_url.append(source)\n",
    "    for i in img_url[:100]:\n",
    "        urls.append(i)\n",
    "        \n",
    "for i in range(len(urls)):\n",
    "    if i >= 300:\n",
    "        break\n",
    "    print(\"Doenloading {0} of {1} images\" .format(i,300))\n",
    "    response = requests.get(urls[i])\n",
    "    \n",
    "    file = open(r\"E:\\google\\images\"+str(i)+\".jpg\",\"wb\")\n",
    "    \n",
    "    file.write(response.content)"
   ]
  },
  {
   "cell_type": "code",
   "execution_count": null,
   "id": "d08a6b31",
   "metadata": {},
   "outputs": [],
   "source": [
    "# creating empty list\n",
    "urls = []\n",
    "data = []\n",
    "\n",
    "search_item = [\"Fruits\",\"Cars\",\"Machine Learning\"]\n",
    "for item in search_item:\n",
    "    \n",
    "    driver.get(url)\n",
    "    time.sleep(5)"
   ]
  },
  {
   "cell_type": "markdown",
   "id": "0236e188",
   "metadata": {},
   "source": [
    "# Q4.Q4 : Write a python program to search for a smartphone(e.g.: Oneplus Nord, pixel 4A, etc.) on www.flipkart.com and scrape following details for all the search results displayed on 1st page"
   ]
  },
  {
   "cell_type": "code",
   "execution_count": 50,
   "id": "8b00d6c8",
   "metadata": {},
   "outputs": [],
   "source": [
    "driver = webdriver.Chrome(service=Service(ChromeDriverManager().install()))\n",
    "\n",
    "# getting the webpage of mentioned url\n",
    "url = \"https://www.flipkart.com/\"\n",
    "driver.get(url)"
   ]
  },
  {
   "cell_type": "code",
   "execution_count": null,
   "id": "ff2c1425",
   "metadata": {},
   "outputs": [],
   "source": [
    "# closing login popup button\n",
    "lonin_x_btn = driver.find_element(By.XPATH,\"//div[@class='_2QfC02']//button\").click()"
   ]
  },
  {
   "cell_type": "code",
   "execution_count": 157,
   "id": "18644a05",
   "metadata": {},
   "outputs": [],
   "source": [
    "# creating empty list\n",
    "Smartphones = ({})\n",
    "Smartphones['Brand'] = []\n",
    "Smartphones['Phone name'] = []\n",
    "Smartphones['Colour'] = []\n",
    "Smartphones['RAM'] = []\n",
    "Smartphones['Storage(ROM)'] = []\n",
    "Smartphones['Primary Camera'] = []\n",
    "Smartphones['Secondary Camera'] = []\n",
    "Smartphones['Display Size'] = []\n",
    "Smartphones['Display Resolution'] = []\n",
    "Smartphones['Processor'] = []\n",
    "Smartphones['Processor Cores'] = []\n",
    "Smartphones['Battery Capacity'] = []\n",
    "Smartphones['Price'] = []\n",
    "Smartphones['URL'] = []"
   ]
  },
  {
   "cell_type": "code",
   "execution_count": null,
   "id": "b5bb0ad6",
   "metadata": {},
   "outputs": [],
   "source": []
  },
  {
   "cell_type": "code",
   "execution_count": null,
   "id": "879ec59e",
   "metadata": {},
   "outputs": [],
   "source": []
  },
  {
   "cell_type": "markdown",
   "id": "430bd579",
   "metadata": {},
   "source": [
    "# Q5 : Write a program to scrap geospatial coordinates (latitude, longitude) of a city searched on google maps."
   ]
  },
  {
   "cell_type": "code",
   "execution_count": null,
   "id": "92dfbf78",
   "metadata": {},
   "outputs": [],
   "source": [
    "# getting mentioned url and opening google maps web page\n",
    "url = 'https://www.google.co.in/maps'\n",
    "driver.get(url)\n",
    "time.sleep(2)"
   ]
  },
  {
   "cell_type": "code",
   "execution_count": null,
   "id": "5cde2438",
   "metadata": {},
   "outputs": [],
   "source": [
    "# entering the city name in search bar\n",
    "City = input('Enter City name that has to be searched : ')\n",
    "search_bar = driver.find_element(By.XPATH,'searchboxinput')\n",
    "search_bar.click()\n",
    "time.sleep(2)\n",
    "\n",
    "#sending keys to find cities\n",
    "search_bar.send_keys(City)\n",
    "\n",
    "#checking for webelement and clicking on search button\n",
    "search_btn = driver.find_element(By.XPATH, \"searchbox-searchbutton\")\n",
    "search_btn.click()\n",
    "time.sleep(2)\n",
    "\n",
    "try:\n",
    "    url_str = driver.current_url\n",
    "    print(\"URL Extracted: \", url_str)\n",
    "    latitude_longitude = re.findall(r'@(.*)data',url_str)\n",
    "    if len(latitude_longitude):\n",
    "        lat_lng_list = latitude_longitude[0].split(\",\")\n",
    "        if len(lat_lng_list)>=2:\n",
    "            latitude = lat_lng_list[0]\n",
    "            longitude = lat_lng_list[1]\n",
    "        print(\"Latitude = {}, Longitude = {}\".format(latitude, longitude))\n",
    "except Exception as e:\n",
    "        print(\"Error: \", str(e))"
   ]
  },
  {
   "cell_type": "code",
   "execution_count": null,
   "id": "a1c27dac",
   "metadata": {},
   "outputs": [],
   "source": []
  },
  {
   "cell_type": "code",
   "execution_count": null,
   "id": "8348ddf4",
   "metadata": {},
   "outputs": [],
   "source": []
  },
  {
   "cell_type": "markdown",
   "id": "f0e40a70",
   "metadata": {},
   "source": [
    "# Q6 : Write a program to scrap details of all the funding deals for second quarter (i.e. July 20 – September 20) from trak.in"
   ]
  },
  {
   "cell_type": "code",
   "execution_count": 151,
   "id": "63719ec0",
   "metadata": {},
   "outputs": [],
   "source": [
    "# opening the url track.in\n",
    "url = \"https://trak.in/\"\n",
    "driver.get(url)\n",
    "time.sleep(2)"
   ]
  },
  {
   "cell_type": "code",
   "execution_count": null,
   "id": "9ee1a0dd",
   "metadata": {},
   "outputs": [],
   "source": [
    "# getting xpath for funding deals and clicking on the button\n",
    "fund_button = driver.find_element_by_xpath(\"//li[@id='menu-item-51510']/a\").get_attribute('href')\n",
    "driver.get(fund_button)\n",
    "\n",
    "#Empty Lists\n",
    "fund_deals = {}\n",
    "fund_deals['Date'] = []\n",
    "fund_deals['Startup Name'] = []\n",
    "fund_deals['Industry/Vertical'] = []\n",
    "fund_deals['Sub_Vertical'] = []\n",
    "fund_deals['Location'] = []\n",
    "fund_deals['Investor'] = []\n",
    "fund_deals['Investment Type'] = []\n",
    "fund_deals['Amount(in USD)'] = []\n",
    "\n",
    "\n",
    "for i in range(48,51):\n",
    "    \n",
    "    # scraping data of data\n",
    "    date = driver.driver.find_element(By.XPATH, \"//table[@id='tablepress-{}']/tbody/tr/td[2]\".format(i))\n",
    "    for d in date:\n",
    "        fund_deals['Date'].append(d.text)\n",
    "        \n",
    "    # scraping data of startup name\n",
    "    startup_name = driver.find_element(By.XPATH, \"//table[@id='tablepress-{}']/tbody/tr/td[3]\".format(i))\n",
    "    for name in startup_name:\n",
    "        fund_deals['Startup Name'].append(name.text)\n",
    "        \n",
    "    \n",
    "    #scraping data of industry or vertical\n",
    "    industry = driver.find_element(By.XPATH, \"//table[@id='tablepress-{}']/tbody/tr/td[4]\".format(i))\n",
    "    for ind in industry:\n",
    "        fund_deals['Industry/Vertical'].append(ind.text)\n",
    "        \n",
    "    \n",
    "    #scraping data of sub-vertical\n",
    "    sub_vertical =driver.find_element(By.XPATH, \"//table[@id='tablepress-{}']/tbody/tr/td[5]\".format(i))\n",
    "    for sv in sub_vertical:\n",
    "        fund_deals['Sub_Vertical'].append(sv.text)\n",
    "        \n",
    "        \n",
    "    # scraping data of location\n",
    "    location = driver.find_element(By.XPATH, \"//table[@id='tablepress-{}']/tbody/tr/td[6]\".format(i))\n",
    "    for loc in location:\n",
    "        fund_deals['Location'].append(loc.text)\n",
    "        \n",
    "        \n",
    "    # scraping data of investor\n",
    "    investor =driver.find_element(By.XPATH, \"//table[@id='tablepress-{}']/tbody/tr/td[7]\".format(i))\n",
    "    for invest in investor:\n",
    "        fund_deals['Investor'].append(invest.text)\n",
    "        \n",
    "        \n",
    "    # scraping data of investment type\n",
    "    investment_type = driver.find_element(By.XPATH, \"//table[@id='tablepress-{}']/tbody/tr/td[8]\".format(i))\n",
    "    for invtype in investment_type:\n",
    "        fund_deals['Investment Type'].append(invtype.text)\n",
    "        \n",
    "        \n",
    "    # scraping data of amount\n",
    "    amount = driver.find_element(By.XPATH,\"//table[@id='tablepress-{}']/tbody/tr/td[9]\".format(i))\n",
    "    for amt in amount:\n",
    "        fund_deals['Amount(in USD)'].append(amt.text)"
   ]
  },
  {
   "cell_type": "code",
   "execution_count": 152,
   "id": "058350f6",
   "metadata": {},
   "outputs": [
    {
     "ename": "NameError",
     "evalue": "name 'fund_deals' is not defined",
     "output_type": "error",
     "traceback": [
      "\u001b[1;31m---------------------------------------------------------------------------\u001b[0m",
      "\u001b[1;31mNameError\u001b[0m                                 Traceback (most recent call last)",
      "\u001b[1;32m~\\AppData\\Local\\Temp/ipykernel_24844/1147698549.py\u001b[0m in \u001b[0;36m<module>\u001b[1;34m\u001b[0m\n\u001b[0;32m      1\u001b[0m \u001b[1;31m# checking lengths of all scraped data\u001b[0m\u001b[1;33m\u001b[0m\u001b[1;33m\u001b[0m\u001b[0m\n\u001b[1;32m----> 2\u001b[1;33m print(len(fund_deals['Date']),\n\u001b[0m\u001b[0;32m      3\u001b[0m \u001b[0mlen\u001b[0m\u001b[1;33m(\u001b[0m\u001b[0mfund_deals\u001b[0m\u001b[1;33m[\u001b[0m\u001b[1;34m'Startup Name'\u001b[0m\u001b[1;33m]\u001b[0m\u001b[1;33m)\u001b[0m\u001b[1;33m,\u001b[0m\u001b[1;33m\u001b[0m\u001b[1;33m\u001b[0m\u001b[0m\n\u001b[0;32m      4\u001b[0m \u001b[0mlen\u001b[0m\u001b[1;33m(\u001b[0m\u001b[0mfund_deals\u001b[0m\u001b[1;33m[\u001b[0m\u001b[1;34m'Industry/Vertical'\u001b[0m\u001b[1;33m]\u001b[0m\u001b[1;33m)\u001b[0m\u001b[1;33m,\u001b[0m\u001b[1;33m\u001b[0m\u001b[1;33m\u001b[0m\u001b[0m\n\u001b[0;32m      5\u001b[0m \u001b[0mlen\u001b[0m\u001b[1;33m(\u001b[0m\u001b[0mfund_deals\u001b[0m\u001b[1;33m[\u001b[0m\u001b[1;34m'Sub_Vertical'\u001b[0m\u001b[1;33m]\u001b[0m\u001b[1;33m)\u001b[0m\u001b[1;33m,\u001b[0m\u001b[1;33m\u001b[0m\u001b[1;33m\u001b[0m\u001b[0m\n",
      "\u001b[1;31mNameError\u001b[0m: name 'fund_deals' is not defined"
     ]
    }
   ],
   "source": [
    "# checking lengths of all scraped data\n",
    "print(len(fund_deals['Date']),\n",
    "len(fund_deals['Startup Name']),\n",
    "len(fund_deals['Industry/Vertical']),\n",
    "len(fund_deals['Sub_Vertical']),\n",
    "len(fund_deals['Location']),\n",
    "len(fund_deals['Investor']),\n",
    "len(fund_deals['Investment Type']),\n",
    "len(fund_deals['Amount(in USD)'] \n",
    "))"
   ]
  },
  {
   "cell_type": "code",
   "execution_count": null,
   "id": "a46f8815",
   "metadata": {},
   "outputs": [],
   "source": [
    "# creating DataFrame for scraped data\n",
    "fund_data = pd.DataFrame(fund_deals)\n",
    "fund_data"
   ]
  },
  {
   "cell_type": "code",
   "execution_count": null,
   "id": "0d79e491",
   "metadata": {},
   "outputs": [],
   "source": []
  },
  {
   "cell_type": "markdown",
   "id": "1c01707f",
   "metadata": {},
   "source": [
    "# Q7 : Write a program to scrap all the available details of best gaming laptops from digit.in"
   ]
  },
  {
   "cell_type": "code",
   "execution_count": null,
   "id": "fc236fa2",
   "metadata": {},
   "outputs": [],
   "source": [
    "# opening the url digit.in\n",
    "url = \"https://www.digit.in/\"\n",
    "driver.get(url)\n",
    "time.sleep(2)"
   ]
  },
  {
   "cell_type": "code",
   "execution_count": null,
   "id": "f190a47e",
   "metadata": {},
   "outputs": [],
   "source": [
    "# searching for best Laptop\n",
    "best_gam_laptops = driver.find_element_by_xpath(\"//div[@class='listing_container']//ul//li[9]\").click()\n",
    "time.sleep(3)"
   ]
  },
  {
   "cell_type": "code",
   "execution_count": 148,
   "id": "d5278178",
   "metadata": {},
   "outputs": [],
   "source": [
    "# creating empty list\n",
    "Laptop_Name = []\n",
    "Operating_sys = []\n",
    "Display = []\n",
    "Processor = []\n",
    "Memory = []\n",
    "Weight = []\n",
    "Dimensions = []\n",
    "Graph_proc = []\n",
    "Price = []"
   ]
  },
  {
   "cell_type": "code",
   "execution_count": null,
   "id": "2915cafa",
   "metadata": {},
   "outputs": [],
   "source": [
    "#scraping the data of laptop names\n",
    "laptop_name = driver.find_element(By.XPATH, \"//div[@class='right-container']/div/a/h3\")\n",
    "for name in laptop_name:\n",
    "    Laptop_Name.append(name.text)\n",
    "    \n",
    "#scraping the data of operating system\n",
    "try:\n",
    "    op_sys = driver.find_element(By.XPATH, \"//div[@class='product-detail']/div/ul/li[1]/div/div\")\n",
    "    for os in op_sys:\n",
    "        Operating_sys.append(os.text)\n",
    "except NoSuchElementException:\n",
    "    pass\n",
    "\n",
    "\n",
    "#scraping data of display of the Laptop\n",
    "try:\n",
    "    display = driver.find_element(By.XPATH, \"//div[@class='product-detail']/div/ul/li[2]/div/div\")\n",
    "    for disp in display:\n",
    "        Display.append(disp.text)\n",
    "except NoSuchElementException:\n",
    "    pass\n",
    "\n",
    "\n",
    "# scraping data of processor\n",
    "try:\n",
    "    processor = driver.find_element(By.XPATH, \"//div[@class='Spcs-details'][1]/table/tbody/tr[5]/td[3]\")\n",
    "    for pro in processor:\n",
    "        Processor.append(pro.text)\n",
    "except NoSuchElementException:\n",
    "    pass\n",
    "\n",
    "\n",
    "# scraping the data of memory\n",
    "try:\n",
    "    memory = driver.find_element(By.XPATH, \"//div[@class='Spcs-details'][1]/table/tbody/tr[6]/td[3]\")\n",
    "    for memo in memory:\n",
    "        Memory.append(memo.text)\n",
    "except NoSuchElementException:\n",
    "    pass\n",
    "\n",
    "\n",
    "# scraping data of weight\n",
    "try:\n",
    "    weight = driver.find_element(By.XPATH, div[@class='Spcs-details'][1]/table/tbody/tr[7]/td[3]\")\n",
    "    for wgt in weight:\n",
    "        Weight.append(wgt.text)\n",
    "except NoSuchElementException:\n",
    "    pass\n",
    "\n",
    "\n",
    "# scraping data of dimensions\n",
    "try:\n",
    "    dimension = driver.find_element(By.XPATH,\"//div[@class='Spcs-details'][1]/table/tbody/tr[8]/td[3]\")\n",
    "    for dim in dimension:\n",
    "        Dimensions.append(dim.text)\n",
    "except NoSuchElementException:\n",
    "    pass\n",
    "\n",
    "\n",
    "# scraping data of graph processor\n",
    "try:\n",
    "    graph = driver.find_element(By.XPATH,\"//div[@class='Spcs-details'][1]/table/tbody/tr[9]/td[3]\")\n",
    "    for gra in graph:\n",
    "        Graph_proc.append(gra.text)\n",
    "except NoSuchElementException:\n",
    "    pass\n",
    "\n",
    "\n",
    "# scraping the data of price\n",
    "try:\n",
    "    price = driver.find_element(By.XPATH,\"//td[@class='smprice']\")\n",
    "    for pri in price:\n",
    "        Price.append(pri.text.replace('₹ ','Rs'))\n",
    "except NoSuchElementException:\n",
    "    pass"
   ]
  },
  {
   "cell_type": "code",
   "execution_count": 149,
   "id": "28f8e602",
   "metadata": {},
   "outputs": [
    {
     "name": "stdout",
     "output_type": "stream",
     "text": [
      "0 0 0 0 0 0 0 0 0\n"
     ]
    }
   ],
   "source": [
    "print(len(Laptop_Name),\n",
    "len(Operating_sys),\n",
    "len(Display),\n",
    "len(Processor),\n",
    "len(Memory),\n",
    "len(Weight),\n",
    "len(Dimensions),\n",
    "len(Graph_proc),\n",
    "len(Price))"
   ]
  },
  {
   "cell_type": "code",
   "execution_count": 150,
   "id": "3ee111ae",
   "metadata": {},
   "outputs": [
    {
     "data": {
      "text/html": [
       "<div>\n",
       "<style scoped>\n",
       "    .dataframe tbody tr th:only-of-type {\n",
       "        vertical-align: middle;\n",
       "    }\n",
       "\n",
       "    .dataframe tbody tr th {\n",
       "        vertical-align: top;\n",
       "    }\n",
       "\n",
       "    .dataframe thead th {\n",
       "        text-align: right;\n",
       "    }\n",
       "</style>\n",
       "<table border=\"1\" class=\"dataframe\">\n",
       "  <thead>\n",
       "    <tr style=\"text-align: right;\">\n",
       "      <th></th>\n",
       "      <th>Laptop Name</th>\n",
       "      <th>Operating System</th>\n",
       "      <th>Display</th>\n",
       "      <th>Processor</th>\n",
       "      <th>Memory</th>\n",
       "      <th>Weight</th>\n",
       "      <th>Dimensions</th>\n",
       "      <th>Graphical Processor</th>\n",
       "      <th>Price</th>\n",
       "    </tr>\n",
       "  </thead>\n",
       "  <tbody>\n",
       "  </tbody>\n",
       "</table>\n",
       "</div>"
      ],
      "text/plain": [
       "Empty DataFrame\n",
       "Columns: [Laptop Name, Operating System, Display, Processor, Memory, Weight, Dimensions, Graphical Processor, Price]\n",
       "Index: []"
      ]
     },
     "execution_count": 150,
     "metadata": {},
     "output_type": "execute_result"
    }
   ],
   "source": [
    "#creating DataFrame for scraped data\n",
    "Gaming_Laptop=pd.DataFrame({})\n",
    "Gaming_Laptop['Laptop Name'] = Laptop_Name\n",
    "Gaming_Laptop['Operating System'] =Operating_sys\n",
    "Gaming_Laptop['Display'] = Display\n",
    "Gaming_Laptop['Processor'] = Processor\n",
    "Gaming_Laptop['Memory'] = Memory\n",
    "Gaming_Laptop['Weight'] = Weight\n",
    "Gaming_Laptop['Dimensions'] = Dimensions\n",
    "Gaming_Laptop['Graphical Processor'] = Graph_proc\n",
    "Gaming_Laptop['Price'] = Price\n",
    "Gaming_Laptop"
   ]
  },
  {
   "cell_type": "code",
   "execution_count": null,
   "id": "d7a18a15",
   "metadata": {},
   "outputs": [],
   "source": []
  },
  {
   "cell_type": "code",
   "execution_count": null,
   "id": "e8eb2876",
   "metadata": {},
   "outputs": [],
   "source": []
  },
  {
   "cell_type": "markdown",
   "id": "a6ffcfaa",
   "metadata": {},
   "source": [
    "# Q8.Write a python program to scrape the details for all billionaires from www.forbes.com. Details to be scrapped: “Rank”, “Name”, “Net worth”, “Age”, “Citizenship”, “Source”, “Industry"
   ]
  },
  {
   "cell_type": "code",
   "execution_count": 139,
   "id": "537965fa",
   "metadata": {},
   "outputs": [],
   "source": [
    "# Connect to Website and pull in data\n",
    "\n",
    "url = \"https://www.forbes.com/billionaires/\""
   ]
  },
  {
   "cell_type": "code",
   "execution_count": 140,
   "id": "026d7ef6",
   "metadata": {},
   "outputs": [],
   "source": [
    "req=requests.get(url)"
   ]
  },
  {
   "cell_type": "code",
   "execution_count": 141,
   "id": "4f4ae2d3",
   "metadata": {},
   "outputs": [],
   "source": [
    "content=BeautifulSoup(req.content,'html.parser')"
   ]
  },
  {
   "cell_type": "code",
   "execution_count": 142,
   "id": "cd0a692c",
   "metadata": {},
   "outputs": [
    {
     "name": "stdout",
     "output_type": "stream",
     "text": [
      "<!DOCTYPE html>\n",
      "<html lang=\"en\"><head><meta charset=\"utf-8\"/><meta content=\"ie=edge\" http-equiv=\"x-ua-compatible\"/><meta content=\"width=device-width, initial-scale=1, shrink-to-fit=no\" name=\"viewport\"/><meta content=\"https://images.forbes.com/Billies22/landing-16x9.jpg\" data-react-helmet=\"true\" itemprop=\"thumbnailURL\"/><meta content=\"The definitive list of the World's Billionaires, presented by Forbes\" data-react-helmet=\"true\" name=\"twitter:description\"/><meta content=\"Forbes Billionaires 2022: The Richest People In The World\" data-react-helmet=\"true\" name=\"twitter:title\"/><meta content=\"https://images.forbes.com/Billies22/landing-16x9.jpg\" data-react-helmet=\"true\" name=\"twitter:image\"/><meta content=\"@forbes\" data-react-helmet=\"true\" name=\"twitter:site\"/><meta content=\"summary_large_image\" data-react-helmet=\"true\" name=\"twitter:card\"/><meta content=\"123694841080850\" data-react-helmet=\"true\" property=\"fb:app_id\"/><meta content=\"The definitive list of the World's Billionaires, presented by Forbes\" data-react-helmet=\"true\" property=\"og:description\"/><meta content=\"image/jpeg\" data-react-helmet=\"true\" property=\"og:image:type\"/><meta content=\"https://images.forbes.com/Billies22/landing-16x9.jpg\" data-react-helmet=\"true\" property=\"og:image\"/><meta content=\"https://www.forbes.com/billionaires/\" data-react-helmet=\"true\" property=\"og:url\"/><meta content=\"article\" data-react-helmet=\"true\" property=\"og:type\"/><meta content=\"Forbes Billionaires 2022: The Richest People In The World\" data-react-helmet=\"true\" property=\"og:title\"/><meta content=\"Forbes\" data-react-helmet=\"true\" property=\"og:site_name\"/><meta content=\"app-id=588647136\" data-react-helmet=\"true\" name=\"apple-itunes-app\"/><meta content=\"English\" data-react-helmet=\"true\" name=\"language\"/><meta content=\"billionaires, the world's billionaires, how many billionaires are there in the world, how many billionaires in the us, how many billionaires are there, wealth, Jeff Bezos, Kylie Jenner, Elon Musk, Donald Trump, Kylie, Steward, Bezos, Laurene Powell Jobs, Donald Trump, richest people in the world, world’s billionaires, richest person in the world, richest woman in the world\" data-react-helmet=\"true\" name=\"keywords\"/><meta content=\"The definitive list of the World's Billionaires, presented by Forbes\" data-react-helmet=\"true\" itemprop=\"description\" name=\"description\"/><meta content=\"origin-when-cross-origin\" data-react-helmet=\"true\" name=\"referrer\"/><meta content=\"width=device-width,initial-scale=1,maximum-scale=1,user-scalable=yes\" data-react-helmet=\"true\" name=\"viewport\"/><meta content=\"#000000\" data-react-helmet=\"true\" name=\"theme-color\"/><meta charset=\"utf-8\" data-react-helmet=\"true\"/><meta content=\"Gatsby 4.13.0\" name=\"generator\"/><style data-href=\"/billionaires/styles.0e2e7dccb662561372e9.css\" data-identity=\"gatsby-global-css\">@font-face{font-display:swap;font-family:Merriweather;font-style:italic;font-weight:700;src:local(\"Merriweather Bold Italic\"),local(\"Merriweather-BoldItalic\"),url(https://i.forbesimg.com/assets/fonts/merriweather/merriweather-bolditalic-webfont.woff2) format(\"woff2\"),url(https://i.forbesimg.com/assets/fonts/merriweather/merriweather-bolditalic-webfont.woff) format(\"woff\")}@font-face{font-display:swap;font-family:Merriweather;font-style:normal;font-weight:700;src:local(\"Merriweather Bold\"),local(\"Merriweather-Bold\"),url(https://i.forbesimg.com/assets/fonts/merriweather/merriweather-bold-webfont.woff2) format(\"woff2\"),url(https://i.forbesimg.com/assets/fonts/merriweather/merriweather-bold-webfont.woff) format(\"woff\")}@font-face{font-display:swap;font-family:Merriweather;font-style:italic;font-weight:400;src:local(\"Merriweather Italic\"),local(\"Merriweather-Italic\"),url(https://i.forbesimg.com/assets/fonts/merriweather/merriweather-italic-webfont.woff2) format(\"woff2\"),url(https://i.forbesimg.com/assets/fonts/merriweather/merriweather-italic-webfont.woff) format(\"woff\")}@font-face{font-display:swap;font-family:Merriweather;font-style:normal;font-weight:400;src:local(\"Merriweather\"),url(https://i.forbesimg.com/assets/fonts/merriweather/merriweather-regular-webfont.woff2) format(\"woff2\"),url(https://i.forbesimg.com/assets/fonts/merriweather/merriweather-regular-webfont.woff) format(\"woff\")}@font-face{font-display:swap;font-family:Work Sans;font-style:normal;font-weight:600;src:local(\"Work Sans SemiBold\"),local(\"WorkSans-SemiBold\"),url(https://i.forbesimg.com/assets/fonts/work-sans/work_sans_600_latin_ext.woff2) format(\"woff2\")}@font-face{font-display:swap;font-family:Work Sans;font-style:normal;font-weight:600;src:local(\"Work Sans SemiBold\"),local(\"WorkSans-SemiBold\"),url(https://i.forbesimg.com/assets/fonts/work-sans/work_sans_600_latin.woff2) format(\"woff2\")}@font-face{font-display:swap;font-family:Work Sans;font-style:normal;font-weight:400;src:local(\"Work Sans\"),local(\"WorkSans-Regular\"),url(https://i.forbesimg.com/assets/fonts/work-sans/work_sans_400_latin_ext.woff2) format(\"woff2\")}@font-face{font-display:swap;font-family:Work Sans;font-style:normal;font-weight:400;src:local(\"Work Sans\"),local(\"WorkSans-Regular\"),url(https://i.forbesimg.com/assets/fonts/work-sans/work_sans_400_latin.woff2) format(\"woff2\")}@font-face{font-family:Graphik Wide;font-style:normal;font-weight:600;src:url(https://i.forbesimg.com/assets/fonts/graphik-wide/graphik-wide-semibold.woff2) format(\"woff2\"),url(https://i.forbesimg.com/assets/fonts/graphik-wide/graphik-wide-semibold.woff) format(\"woff\")}@font-face{font-display:block;font-family:EuclidCircularB;font-style:normal;font-weight:700;src:local(\"EuclidCircular Bold\"),local(\"EuclidCircular-Bold\"),local(\"EuclidCircularB\"),url(https://i.forbesimg.com/assets/fonts/EuclidCircular/EuclidCircularB-Bold.otf) format(\"opentype\")}@font-face{font-display:block;font-family:EuclidCircularSB;font-weight:600;src:local(\"EuclidCircularSB\"),local(\"EuclidCircular Semi Bold\"),local(\"EuclidCircular-Semi-Bold\"),url(https://i.forbesimg.com/assets/fonts/EuclidCircular/EuclidCircularB-Semibold.otf) format(\"opentype\")}@font-face{font-display:block;font-family:EuclidCircular;font-weight:400;src:url(https://i.forbesimg.com/assets/fonts/EuclidCircular/EuclidCircularB-Regular.otf) format(\"opentype\")}/*! normalize.css v5.0.0 | MIT License | github.com/necolas/normalize.css */html{-ms-text-size-adjust:100%;-webkit-text-size-adjust:100%;font-family:sans-serif;line-height:1.15}body{margin:0}article,aside,footer,header,nav,section{display:block}h1{font-size:2em;margin:.67em 0}figcaption,figure,main{display:block}figure{margin:1em 40px}hr{box-sizing:content-box;height:0;overflow:visible}pre{font-family:monospace,monospace;font-size:1em}a{-webkit-text-decoration-skip:objects;background-color:transparent}a:active,a:hover{outline-width:0}abbr[title]{border-bottom:none;text-decoration:underline;-webkit-text-decoration:underline dotted;text-decoration:underline dotted}b,strong{font-weight:inherit;font-weight:bolder}code,kbd,samp{font-family:monospace,monospace;font-size:1em}dfn{font-style:italic}mark{background-color:#ff0;color:#000}small{font-size:80%}sub,sup{font-size:75%;line-height:0;position:relative;vertical-align:baseline}sub{bottom:-.25em}sup{top:-.5em}audio,video{display:inline-block}audio:not([controls]){display:none;height:0}img{border-style:none}svg:not(:root){overflow:hidden}button,input,optgroup,select,textarea{font-family:sans-serif;font-size:100%;line-height:1.15;margin:0}button,input{overflow:visible}button,select{text-transform:none}[type=reset],[type=submit],button,html [type=button]{-webkit-appearance:button}[type=button]::-moz-focus-inner,[type=reset]::-moz-focus-inner,[type=submit]::-moz-focus-inner,button::-moz-focus-inner{border-style:none;padding:0}[type=button]:-moz-focusring,[type=reset]:-moz-focusring,[type=submit]:-moz-focusring,button:-moz-focusring{outline:1px dotted ButtonText}fieldset{border:1px solid silver;margin:0 2px;padding:.35em .625em .75em}legend{box-sizing:border-box;color:inherit;display:table;max-width:100%;padding:0;white-space:normal}progress{display:inline-block;vertical-align:baseline}textarea{overflow:auto}[type=checkbox],[type=radio]{box-sizing:border-box;padding:0}[type=number]::-webkit-inner-spin-button,[type=number]::-webkit-outer-spin-button{height:auto}[type=search]{-webkit-appearance:textfield;outline-offset:-2px}[type=search]::-webkit-search-cancel-button,[type=search]::-webkit-search-decoration{-webkit-appearance:none}::-webkit-file-upload-button{-webkit-appearance:button;font:inherit}details,menu{display:block}summary{display:list-item}canvas{display:inline-block}[hidden],template{display:none}*,:after,:before{box-sizing:border-box}body,html{text-rendering:optimizeLegibility;-webkit-font-feature-settings:\"kern\";font-feature-settings:\"kern\";font-family:Work Sans,sans-serif;-moz-font-kerning:normal;font-kerning:normal;-webkit-font-variant-ligatures:common-ligatures;font-variant-ligatures:common-ligatures;height:100%;width:100%}img{display:block;height:auto!important;max-width:100%;width:auto}figure{margin:0}figure img{display:block;max-width:100%}a{color:inherit}a,button{cursor:pointer}button{background:none;border:none;outline:none;padding:0}em,i{font-style:italic}b,strong{font-weight:700}table{border-collapse:collapse;border-spacing:0}p a{color:#003891}p a:hover{text-decoration:underline}@font-face{font-family:EuclidCircularB;font-weight:400;src:url(https://i.forbesimg.com/assets/fonts/EuclidCircular/EuclidCircularB-Regular.otf) format(\"opentype\")}@font-face{font-family:EuclidCircularB;font-weight:600;src:url(https://i.forbesimg.com/assets/fonts/EuclidCircular/EuclidCircularB-Semibold.otf) format(\"opentype\")}@font-face{font-family:Schnyder;font-weight:400;src:url(https://i.forbesimg.com/assets/fonts/Schnyder/SchnyderCondL-Light.otf) format(\"opentype\")}@font-face{font-family:Schnyder;font-weight:700;src:url(https://i.forbesimg.com/assets/fonts/Schnyder/SchnyderCondL-Bold.otf) format(\"opentype\")}@font-face{font-family:SchnyderS;font-weight:700;src:url(https://forbes.com/billionaires/fonts/SchnyderS-Bold.otf) format(\"opentype\")}.page-wrapper{background-color:#fff}.has-left-rail{display:flex}.main-header{left:0;position:fixed;right:0;top:0;z-index:999}.fbs-container{margin:0 auto;max-width:1440px;padding-left:20px;padding-right:20px;width:100%}.fbs-container--bleed{max-width:100%;padding-left:0;padding-right:0}.fbs-container--xl{max-width:1600px}.fbs-container--small{max-width:900px}.ad-row{display:flex}.ad-row [position]>div{padding-top:24px;width:100%}.ad-row [position]>div>div{margin:0 auto;overflow-x:auto}.ad-row fbs-ad{position:relative;width:100%}.ad-row fbs-ad,.ad-row fbs-ad:before{display:flex;justify-content:center;text-align:center}.ad-row fbs-ad:before{align-items:center;color:#a5a5a5;content:\"ADVERTISEMENT\";font-size:10px;font:500 10px/2.71 Arial;height:40px;letter-spacing:4px;position:absolute;top:0}@media (max-width:480px){.ad-row fbs-ad:before{font-size:7px}}.ad-row{padding:29px 0 47px}.ad-row fbs-ad:before{top:-10px}@media (max-width:480px){.ad-row{padding:6px 0 37px}}.sticky-ad__container>div{z-index:10}.sticky-ad__container>div:before{content:\"\"}.credits{background-color:#000;margin-top:76px;padding:80px 145px}.credits-container{margin:0 auto;max-width:1200px;width:100%}.credits-item{border-top:1px solid #979797;display:flex;margin-bottom:80px;position:relative}.credits-item:last-child{margin-bottom:0}.credits-item .credits-text{color:#fff;letter-spacing:normal;line-height:normal}.credits-item .credits-text .credits-dek{font:17px/26px EuclidCircularB,Arial,Helvetica,sans-serif;text-align:left}.credits-item .credits-text .credits-dek a{color:#06bffc}.credits-item .credits-text .credits-dek .bold{font-weight:700}.credits-item__title{color:#fff;font:600 30px EuclidCircularB,Arial,Helvetica,sans-serif;margin:34px 0 18px;text-align:left}@media (max-width:768px){.credits{margin-top:37px;padding:40px 15px 35px}.credits-item{margin-bottom:35px}.credits-item .credits-text{position:relative}.credits-item .credits-text .credits-dek{font-size:15px;margin-top:10px}.credits-item .credits-text .credits-dek>div:first-child{margin-top:1rem}.credits-item__title{font-size:15px;margin:15px 0 12px}}.left-rail{background-color:#000;flex:0 0 370px}.left-rail+div{flex:auto}.left-rail .featured__article-mag{width:100%}.left-rail .brandvoice-tag{color:#fcd75e;font:12px EuclidCircularB,Arial,Helvetica,sans-serif;letter-spacing:.43px;margin:20px 0 -10px;text-transform:uppercase}@media (max-width:1280px){.left-rail{flex:0 0 300px}.headers .left-rail,.table-row-group .left-rail{width:300px}}@media (max-width:1100px){.left-rail{flex:0 0 250px}.headers .left-rail,.table-row-group .left-rail{width:250px}}@media (max-width:768px){.left-rail{flex:0 0 100%}}.caption-credit{color:#333;font:12px/16px EuclidCircularB,Arial,Helvetica,sans-serif;justify-content:flex-end;margin:0;text-align:center;text-transform:uppercase}.caption-credit__desktop{display:flex;text-align:left}.caption-credit__mobile{display:none}.caption-credit__label{font-weight:600}.caption-credit__container{margin-left:127px;max-width:197px;text-align:left}.desktop-header-content{min-height:100vh}.hero-image{min-height:400px;width:100%}.title{text-align:center}.title+.ad-row{padding:0}.title .editors-block{font:14px/18px EuclidCircularB,Arial,Helvetica,sans-serif;margin:30px 30px 36px;text-align:center;text-transform:uppercase}.title .intro-heading{margin:160px 63px 35px;text-transform:uppercase}.title .left-rail{color:#fff;font-family:EuclidCircularB,Arial,Helvetica,sans-serif}.title .left-rail .img-container{position:relative;right:-2px}.title .left-rail .intro-subheading h2{color:#06bffc;font:24px/30px EuclidCircularB,Arial,Helvetica,sans-serif;margin:0;text-align:center}.title .left-rail .sidebar-description{font-weight:400;margin-top:2rem;text-transform:uppercase}.title .left-rail .heading-dot{margin:0 0 36px}.title .left-rail .sponsor{font-size:18px}.title .down-arrow{color:#06bffc;display:flex;justify-content:center;margin:71px auto 30px}.title .down-arrow svg{width:60px}.sponsored-logo{display:inline-flex;height:12px;width:154px}.sponsored-text{font:14px/18px EuclidCircularB,Arial,Helvetica,sans-serif;margin-bottom:9px}.sponsored-text,.title__subheading{text-align:center;text-transform:uppercase}.title__subheading{color:#fff;font-size:40px;font-weight:700;letter-spacing:4px}.heading-content{display:flex;margin:56px auto 0;max-width:958px;padding:0 30px}.heading-content .intro-text{color:#333;font:18px/32px Georgia;max-width:574px;text-align:left}.heading-content .intro-text a{color:#06bffc}.heading-content .pullquote{border-top:1px solid #06bffc;flex:0 0 35%;font:600 19px/21px EuclidCircularB,Arial,Helvetica,sans-serif;margin-top:69px;padding-top:39px}.heading-content .pullquote:first-line{color:#06bffc}.heading-content .bold{font-weight:700}.heading-content .dropcap{color:#06bffc;display:block;float:left;font:140px SchnyderS,Times New Roman,Times,serif;height:140px;margin:-13px 40px 32px 0;text-align:center;width:120px}.down-red-arrow{align-items:center;display:flex;height:150px;justify-content:center;padding-top:50px}.down-red-arrow div{width:48px}@media (max-width:1024px){.title__subheading{font-size:50px}.intro-subheading{margin-top:39px}.caption-credit__container{margin-left:20px}}@media (max-width:768px){.title__subheading{padding:0 110px}.caption-credit__container,.caption-credit__desktop,.caption-credit__mobile{display:none}.desktop-header-content{min-height:0}.title+.ad-row{margin:0}.title .editors-block{font-size:11px;margin-top:30px}.title.has-left-rail{flex-direction:column}.title .intro-heading{margin:42px 38px 50px;min-height:200px}.title .left-rail{flex:0 0 100%;padding-bottom:2rem}.title .left-rail>div:last-of-type{margin-bottom:-2rem;position:relative;z-index:1}.title .left-rail .sidebar-headline{font-size:24px;margin:2rem auto 0;width:80%}.title .left-rail .sidebar-description{font-size:11px}.title .left-rail .sponsor{font-size:14px}.title .img-container{position:relative;z-index:2}.title .down-arrow{margin:40px auto}.title__subheading{font-size:20px;padding:0 10px}.hero-image{min-height:200px}.heading-content{font-size:18px;line-height:27px;margin:15px 15px 0;padding:0}.heading-content .intro-text{line-height:27px;margin-right:0}.heading-content .dropcap{font-size:120px;height:120px;margin:-15px 20px 12px -5px}.heading-content .pullquote{display:none}.sub-heading-content{font-size:17px;line-height:1.53}}.social{margin-top:36px;padding-bottom:74px;text-align:center}.social__text{font-family:Merriweather,serif;font-size:40px;margin-bottom:29px}.social__icons{display:flex;justify-content:space-between;margin:0 auto;width:70%}.social__icon{cursor:pointer;display:flex;margin-right:20px}.social__icon:last-child{margin:0}.social__icon-link{fill:#000;align-items:center;background-color:#fff;border-radius:50%;display:flex;height:35px;justify-content:center;width:35px}.social__icon-link:hover{background-color:#06bffc}.social__icon-link>div{display:flex}.social__icon-link .fs-icon{width:27px}@media (max-width:768px){.social__icon{justify-content:center}.social__icon-link{height:40px;width:40px}.social__icon-link .fs-icon{width:32px}.social__icon-link:hover{background-color:#fff}.social__icon-link .social{padding-bottom:39px}}@media (max-width:480px){.social__text{font-size:30px}}*{box-sizing:border-box}html{height:inherit}body{background-color:#fff;overflow-x:hidden}body.no-scroll{overflow:hidden}.content-wrapper{margin-top:56px;min-height:100vh;position:relative}#gatsby-focus-wrapper{overflow-x:hidden}.ratio16x9{background-repeat:no-repeat;background-size:contain}.ratio16x9:before{content:\"\";display:block;padding-bottom:56.25%}.ratio1x1{background-repeat:no-repeat;background-size:contain}.ratio1x1:before{content:\"\";display:block;padding-bottom:100%}.screenreader-only{clip:rect(0 0 0 0);-webkit-clip-path:inset(50%);clip-path:inset(50%);height:1px;overflow:hidden;position:absolute;white-space:nowrap;width:1px}.heading-dot{display:flex;justify-content:center;margin:0 0 36px}.heading-dot>div{background-color:#06bffc;border-radius:50%;height:21px;text-align:center;width:21px}@media (max-width:768px){.heading-dot{margin:2rem 0}.heading-dot>div{height:15px;width:15px}}.no-data{min-height:900px}.table-block .pull-right{display:flex;flex-direction:column}.table-block-wrapper{padding:0}.table{min-height:900px}.table-header{color:#333;font:40px/40px SchnyderS,Times New Roman,Times,serif;margin:30px 49px;text-align:center}@media (min-width:1024px){.table-header{font-size:50px;line-height:normal;margin:34px 0 29px 21px;text-align:left}}.table-row-group{display:flex;min-height:600px;position:relative}.table-row-group .left-rail{font-family:EuclidCircularB,Arial,Helvetica,sans-serif;min-height:600px;padding:15px}.table-row-group .left-rail .img-container{position:relative}.table-row-group .left-rail .sidebar-description,.table-row-group .left-rail .sidebar-headline{color:#fff}.table-row-group .left-rail .sidebar-headline h3{font:600 24px/32px EuclidCircularB,Arial,Helvetica,sans-serif;letter-spacing:normal;margin:20px 0 5px;text-align:left}.table-row-group .left-rail .sidebar-description{font:18px/26px EuclidCircularB,Arial,Helvetica,sans-serif;margin-bottom:15px;text-align:left}.table-row-group .left-rail .read-more-link{color:#06bffc;font:600 15px EuclidCircularB,Arial,Helvetica,sans-serif;text-align:left}.table-row-group .left-rail .read-more-link a{align-items:center;display:flex;flex-direction:row;text-decoration:none;text-transform:uppercase}.table-row-group .left-rail .read-more-link span{align-items:center;display:flex;justify-content:center;margin-left:7px}.table-row-group .left-rail .read-more-link svg{fill:#06bffc;width:12px}.total{font:16px EuclidCircularB,Arial,Helvetica,sans-serif;margin:1rem 0;text-align:center}.filters{align-items:center;font:11px EuclidCircularB,Arial,Helvetica,sans-serif;margin:0 auto;width:90%}.filters .filters-heading-container{display:flex;justify-content:space-between;margin:0 21px 21px}.filters .filters-heading-container>div.filter-heading{color:#333;font-size:14px;text-transform:uppercase}.filters .wealth-key{display:flex;font-size:11px;font-weight:500;justify-content:flex-end;text-transform:uppercase}.filters .wealth-key>div{display:flex}.filters>div.filter-wrapper{align-items:center;display:flex;font-size:11px;margin:0 21px 24px}.filters>div.filter-wrapper>div{align-items:center;cursor:pointer;display:flex;flex:1 1;height:40px;justify-content:center;line-height:normal;text-align:center;text-transform:uppercase;white-space:nowrap}.filters>div.filter-wrapper>div:not(:last-child){border-bottom:6px solid #333;margin-right:20px}.filters>div.filter-wrapper>div.expanded{border-bottom-color:#06bffc}.filters>div.filter-wrapper>div.search-box{display:flex;flex:0 0 25%;position:relative}.filters>div.filter-wrapper>div.search-box input{border:1px solid #979797;border-radius:5px;color:#333;font:11px EuclidCircularB,Arial,Helvetica,sans-serif;letter-spacing:.31px;padding:10px 25px 10px 10px;text-align:left;text-transform:uppercase;width:100%}.filters>div.filter-wrapper>div.search-box>div{line-height:0;opacity:.75;position:absolute;right:15px;top:50%;-webkit-transform:translateY(-50%);transform:translateY(-50%);width:14px}.filters>div.filter-wrapper>div.search-box>div svg{fill:#4d4d4d;-webkit-transform:rotate(90deg);transform:rotate(90deg)}.filters>div.filter-wrapper>div.search-box>div svg circle{stroke:#4d4d4d}.filters>div.filter-wrapper>div.selected{border-bottom-color:#06bffc;font-weight:700}.dropdown-filter>div{position:relative}.dropdown-filter .dropdown-filter-title{align-items:center;display:flex}.dropdown-filter .dropdown-filter-title .caret{fill:#333;margin-left:10px;width:25px}.dropdown-filter .dropdown-filter-title .caret>svg{display:flex;-webkit-transform:rotate(180deg);transform:rotate(180deg);transition:transform .4s ease-in-out}.dropdown-filter .dropdown-filter-title.selected-dropdown span{color:#06bffc;font-weight:700}.dropdown-filter.expanded .dropdown-filter-title>span{font-weight:700}.dropdown-filter.expanded .dropdown-filter-title .caret>svg{-webkit-transform:rotate(0);transform:rotate(0)}.dropdown-filter ul{background-color:#fff;border:1px solid #e2e2e2;border-radius:1px;display:none;height:275px;left:-2px;list-style-type:none;overflow:auto;padding:0;position:absolute;top:40px;width:250px;z-index:20}.dropdown-filter.expanded ul{display:block}.dropdown-filter ul li{color:#333;cursor:pointer;font-family:Work Sans;font-size:14px;padding:10px}.dropdown-filter ul li.selected,.dropdown-filter ul li:hover{background-color:#06bffc;color:#fff}.headers .left-rail+div{flex:auto!important}.status{display:block;margin-left:1rem;position:relative;width:12px}.status img{position:absolute;top:50%;-webkit-transform:translateY(-50%);transform:translateY(-50%)}.header-row{border-top:1px solid #333;margin:20px 20px 24px;padding-top:20px}.header-row>div{padding-right:10px}.header-row>div.category{padding:0}.header-row>div.active-sort .header-border{background-color:#06bffc}.header-row>div.active-sort .header-name{font-weight:700}.header-row>div>div{align-items:center;display:flex;justify-content:center}.header-row>div>div.header-name{font:11px EuclidCircularB,Arial,Helvetica,sans-serif;height:25px;text-align:center;text-transform:uppercase}.header-row>div>div.header-border{margin-top:5px}.header-row>div.age .header-name,.header-row>div.rank .header-name{position:relative}.header-row>div.age .header-name .indicator,.header-row>div.rank .header-name .indicator{position:absolute;right:-15px}.netWorth{flex:0 0 10%!important}.table-row .netWorth>div{display:flex;flex:0 0 100%}.table-row .netWorth>div .status{margin-left:auto;margin-right:25%}.rank{max-width:100px}.age{flex:0 0 5%!important}.country{flex:0 0 10%!important}.display{position:relative}.indicator{display:inline-block;vertical-align:bottom}.indicator .caret{align-items:center;display:flex;transition:-webkit-transform .3s ease-in-out;transition:transform .3s ease-in-out;transition:transform .3s ease-in-out,-webkit-transform .3s ease-in-out}.indicator .caret svg{fill:#000;width:15px}.indicator .caret.ascending{-webkit-transform:rotate(0);transform:rotate(0)}.indicator .caret.descending{-webkit-transform:rotate(180deg);transform:rotate(180deg)}.header-border{background-color:#333;height:6px}.table-body{background:#fff;min-width:0!important;position:relative;scroll-behavior:smooth}.table-row{height:65px;scroll-margin-top:100px}.table-row:not(.footnote){border-bottom:1px solid #bbb}.table-row.footnote{padding-top:1rem}.table-row>div{align-items:center;display:flex;font:14px EuclidCircularB,Arial,Helvetica,sans-serif;padding:0 10px}.table-row>div.personName{font-family:EuclidCircularB,Arial,Helvetica,sans-serif;letter-spacing:0;line-height:24px}.table-row>div.category>div,.table-row>div.source>div{align-items:center;display:flex}.table-row>div.source>div{position:relative}.table-row>div .expand-row__icon{display:inline-block;margin:0 10px;position:absolute;right:0;-webkit-transform:rotate(180deg);transform:rotate(180deg);transition:-webkit-transform .3s ease-in-out;transition:transform .3s ease-in-out;transition:transform .3s ease-in-out,-webkit-transform .3s ease-in-out;vertical-align:middle;visibility:hidden;width:25px}.table-row>div .expand-row__icon--mobile{display:none;top:50%}.table-row>div .expand-row__icon svg{fill:#fff}.table-row:hover{cursor:pointer}.table-row:hover>div.category div .expand-row__icon{visibility:visible}.table-row.expanded,.table-row:not(.expanded):not(.no-results):hover{background-color:#333;color:#fff}.table-row.expanded>div.category div .expand-row__icon,.table-row.expanded>div.source div .expand-row__icon{-webkit-transform:rotate(0deg);transform:rotate(0deg);visibility:visible}.table-row.expanded>div{font-weight:600}.table-row.no-results{border-bottom:none;display:flex}.table-row.no-results>div{font-size:16px}.table-ad.ad-row+div .table-row:nth-child(2){border-top:1px solid #bbb}.selected{border-bottom-color:#06bffc;font-weight:700}.reprints{color:#06bffc;display:flex;font:600 16px/2.16 EuclidCircularB,Arial,Helvetica,sans-serif;justify-content:center;padding-top:26px}.reprints a{text-decoration:none}.reprints a:first-child{margin-right:2rem}.reprints a:hover{text-decoration:underline}.source-column{flex:0 0 100%;justify-content:space-between}@media (max-width:1024px){.filters{flex-wrap:wrap;font-size:12px}.filters>div.search-box{margin-left:0;width:40%}.filters .filters-heading-container>div.filter-heading{display:none}.age,.category,.country{display:none!important}}.table-row-group__container{width:100%}@media (max-width:768px){.filters>div.filter-wrapper{border-bottom:none;flex-wrap:wrap;padding-bottom:0}.filters>div.filter-wrapper>div{flex-basis:calc(50% - 30px);flex-grow:1;flex-shrink:1;position:relative}.filters>div.filter-wrapper>div.search-box{flex:0 0 100%;margin-top:2rem}.filters>div.filter-wrapper>div:nth-of-type(2n){margin-right:0}.filters>div.filter-wrapper>div:not(.search-box){max-width:142px}.filters>div.filter-wrapper>div .caret{height:8px;width:12px}.filters>div.filter-wrapper>div.selected.desc .caret svg{-webkit-transform:rotate(180deg);transform:rotate(180deg)}.filters>div.filter-wrapper>div.selected .caret{display:block}.impact-key{padding:0 10px 10px;text-align:center}.table-row>div.personName{font-size:24px;line-height:normal}.dropdown-filter ul{left:-24px;width:150px}.header-row{border-top:0;flex:0 0 100%!important;font-size:12px;justify-content:center;margin-bottom:20px}.header-row>div>div.header-name{text-align:left}.header-row>div.rank .header-name .indicator{right:-13px}.header-row>div.netWorth>div.header-name{width:75%}.table-block .has-left-rail{justify-content:center}.headers.has-left-rail .left-rail,.table-block-wrapper>.has-left-rail .left-rail,.table-block>.has-left-rail .left-rail,.table-body>.table-row-group:first-child .left-rail{display:none}.headers.has-left-rail .no-results+.left-rail,.table-block-wrapper>.has-left-rail .no-results+.left-rail,.table-block>.has-left-rail .no-results+.left-rail,.table-body>.table-row-group:first-child .no-results+.left-rail{display:block}.filters-modal{background:#fff;bottom:0;display:none;font-family:EuclidCircularB,Arial,Helvetica,sans-serif;left:0;overflow:auto;padding-top:50px;position:fixed;right:0;top:55px;z-index:10}.filters-modal .modal-close{position:absolute;right:10px;top:10px;width:25px}.filters-modal.open{display:block}.filters-modal .filter-reset{align-items:center;background-color:#fff;border:1px solid #e2e2e2;border-radius:4px;display:flex;font:14px EuclidCircularB,Arial,Helvetica,sans-serif;height:40px;justify-content:center;margin:0 auto;width:80%}.filters-modal .filters-modal-heading{align-items:center;border-bottom:1px solid #efefef;display:flex;height:50px;justify-content:space-between;padding:0 25px}.filters-modal .mobile-filter-dropdown{background-color:#ddeaf7;border-left:2px solid #8eb9e5;display:none}.filters-modal .mobile-filter-dropdown.open{display:block}.filters-modal .mobile-filter-dropdown>div{padding:25px}.filters-modal .expand-row__icon{-webkit-transform:rotate(180deg);transform:rotate(180deg);transition:-webkit-transform .3s ease-in-out;transition:transform .3s ease-in-out;transition:transform .3s ease-in-out,-webkit-transform .3s ease-in-out}.filters-modal .expand-row__icon svg{width:25px}.filters-modal .expand-row__icon.up{-webkit-transform:rotate(0);transform:rotate(0)}.filters-modal .dropdown-filter .dropdown-filter-title .caret{fill:#000}.filters-modal .dropdown-filter .dropdown-filter-title.selected-dropdown span{color:#000}.filters-modal .dropdown-filter.expanded ul{position:relative;width:100%}.filters-modal-btn{background-color:#8eb9e5;border:1px solid #979797;border-radius:5px;box-shadow:0 2px 4px 0 rgba(0,0,0,.15);height:40px;text-align:center;width:75px}.status{display:block}.filters .wealth-key{flex-wrap:wrap;justify-content:center;line-height:normal;margin:10px auto;max-width:300px;padding-right:0}.filters .wealth-key>div{margin-bottom:5px}.filters>div.search-box{margin-left:0;width:75%}.headers{font-size:12px;letter-spacing:-.19px;line-height:1.08;margin:0 auto;width:95%}.rank{flex:0 0 18%!important;max-width:100%}.personName{flex:0 0 30%!important}.netWorth{flex:0 0 22%!important}.source{padding-right:0}.philanthropyScore,.source{flex:0 0 30%!important}.philanthropyScore>div{align-items:center;display:flex;flex:0 0 75%}.philanthropyScore span{margin-left:5px}.philanthropyScore .collapse-row{display:none;margin-left:auto}.philanthropyScore .collapse-row svg{fill:#fff;width:15px}.table-row.expanded .philanthropyScore .collapse-row{display:flex}.header-name .display .indicator{position:absolute}.table-row-group>div:first-child{border-top:1px solid #bbb}.table-row-group{min-height:0}.table-row-group.no-result__row-container{flex-direction:column}.table-row-group .left-rail{min-height:0;padding-bottom:21px;position:relative;width:100%}.table-row-group .left-rail .img-container{background-position:50%;background-size:cover}.table-row-group .left-rail .sidebar-headline h3{font-size:20px;line-height:26px}.table-row-group .left-rail .sidebar-description{font-size:14px;line-height:18px}.table-row-group .left-rail .read-more-link a{font-size:14px;letter-spacing:.47px}.table-row-group .left-rail .read-more-link span{margin-left:10px}.table-row-group .left-rail .read-more-link svg{width:12px}.table-row-group .table-row{margin:0 auto;padding-left:0}.table-row>div{font:11px EuclidCircularB,Arial,Helvetica,sans-serif}.table-row>div.rank{font-size:11px;justify-content:left;padding-left:15px}.table-row>div.personName{font-size:11px;font-weight:400;padding-right:10px;position:relative;text-transform:none}.table-row>div.netWorth>div .status{margin-right:10%}.table-row.no-results{margin-bottom:1rem}.table-row.no-results>div{font-size:14px}.table-row:not(.expanded):not(.no-results):hover{background-color:inherit;color:inherit}.table-row.expanded>div.source div .expand-row__icon{-webkit-transform:rotate(0deg) translateX(100%) translateY(-50%);transform:rotate(0deg) translateX(100%) translateY(-50%);transition:none}.table-row.expanded>div.source div .expand-row__icon--mobile{display:inline-block}.source-column{flex:0 0 90%}.reprints{display:none}}.pagination{align-items:center;display:flex;justify-content:space-between;margin:38px;width:calc(100% - 76px)}.pagination-btn{color:#39393a;font:600 14px/2.16 EuclidCircularB,Arial,Helvetica,sans-serif;letter-spacing:.26px}.pagination-btn--disabled{opacity:.25;pointer-events:none}.pagination-btn .next-page,.pagination-btn .previous-page{align-items:center;display:flex}@media (max-width:768px){.pagination-btn{font-size:11px}}.bubble-arrow{fill:#fff;background:#06bffc;border-radius:50%;flex:0 0 45px;height:45px;padding:8px;vertical-align:middle;width:45px}@media (max-width:768px){.bubble-arrow{flex:0 0 30px;height:30px;padding:6px;width:30px}}.bubble-arrow__label{margin:0 10px}@media (max-width:768px){.bubble-arrow__label{margin:0 6px}}.goto-page{display:flex;justify-content:center}.goto-page__btn{background-color:#fff;border:1px solid #979797;border-radius:50%;height:13px;margin:0 6px;vertical-align:middle;width:13px}.goto-page__btn[disabled]{background-color:#98999a}@media (max-width:768px){.goto-page__btn{display:none}}.avatar{margin:27px auto 40px;width:200px}.avatar img{min-height:200px;width:200px}.billions-amount{color:#000;font:600 40px/48px EuclidCircularB,Arial,Helvetica,sans-serif;padding:8px 0 15px}.chart-description{color:#737373;font:12px EuclidCircularB,Arial,Helvetica,sans-serif;margin:2px 0 20px}.chart-description,.chart-heading{text-align:center;text-transform:uppercase}.chart-heading{border-top:1px solid #bbb;color:#1e1e24;font:600 16px EuclidCircularB,Arial,Helvetica,sans-serif;padding-top:25px}.chartjs-render-monitor{margin-bottom:50px}.details-container{border-left:1px solid #bbb;flex:1 1 25%;margin:22px 0;padding:0 26px;text-align:center}.expanded-content{background-color:#f0f0f0;border-bottom:1px solid #bbb;display:flex!important;scroll-margin-bottom:10px}.networth-title{align-self:center;color:#1e1e24;font:600 16px EuclidCircularB,Arial,Helvetica,sans-serif;text-transform:uppercase}.quote-container{margin-bottom:98px;min-height:100px;min-width:100px}.quote-heading{fill:#06bffc;margin:0 auto 16px;text-align:center;width:32px}.personal-block{background-color:#e2e2e2;flex:1 1 25%;padding:0 26px}.person-bio{flex:1 1 50%;padding:22px 26px 0}.person-bio .bio{color:#333;font:18px/22px EuclidCircularB,Arial,Helvetica,sans-serif;margin-bottom:18px;margin-top:0}.person-bio .bio-button{align-items:center;background-color:#06bffc;border-radius:2px;color:#000;display:flex;font:600 12px EuclidCircularB,Arial,Helvetica,sans-serif;height:32px;justify-content:center;letter-spacing:-.17px;margin-bottom:25px;text-decoration:none;text-transform:uppercase;width:125px}.person-bio .bio-button>span{display:block}.person-bio .bio-button>a{align-items:center;display:flex;justify-content:center;text-decoration:none;text-transform:uppercase}.person-quote{font:16px/20px EuclidCircularB,Arial,Helvetica,sans-serif;margin:0 10px;text-align:center}.previous-lists{border-top:1px solid #bbb;flex:0 0 30%;font-family:EuclidCircularB,Arial,Helvetica,sans-serif;list-style:none;padding-top:25px}.previous-lists__heading{color:#1e1e24;font-size:16px;font-weight:600;margin-bottom:16px;text-transform:uppercase}.previous-lists__ranking{padding-right:15px}.previous-lists__row{font:16px EuclidCircularB,Arial,Helvetica,sans-serif;margin-bottom:8px;text-align:center}.quote-credit{color:#1e1e24;font:600 16px EuclidCircularB,Arial,Helvetica,sans-serif;margin-top:9px;text-align:center;text-transform:uppercase}.wealth-chart{flex:1 1;position:relative}.updated-networth{color:#bbb;font:500 12px EuclidCircularB,Arial,Helvetica,sans-serif;text-transform:uppercase}@media (max-width:1100px){.expanded-content{margin-right:0}}@media (max-width:768px){.avatar{margin:15px 12px;width:125px}.avatar img{min-height:125px;width:125px}.billions-amount{font-size:37px;padding:0 0 0 13px}.details-container{border-left:none;border-top:1px solid #bbb;display:flex;flex:100% 1;justify-content:center;margin:0 10px;padding:5px 0}.expanded-content{flex-wrap:wrap;justify-content:center}.networth-title{font-size:12px}.person-bio{padding:10px}.person-bio .bio{font-size:14px;line-height:20px;margin:0 0 15px}.person-bio .bio-button{margin:0 auto}.person-bio .bio-container{padding:0 5px}.quote-heading{width:24px}.quote-container{display:none}.personal-block{display:flex;flex:0 0 100%;justify-content:center;padding:15px}.person-quote{font-size:12px;line-height:16px;margin:0}.previous-lists{display:none}.quote-credit{font:600 12px EuclidCircularB,Arial,Helvetica,sans-serif;letter-spacing:-.42px}.table-row-group .expanded-content{padding-left:0;padding-right:0}.updated-networth{font-size:10px}.wealth-chart{margin-top:20px}.wealth-chart .chart-description{font-size:10px;margin:5px 0 0}.wealth-chart .chart-heading{font-size:12px;padding-top:17px}.wealth-chart .chartjs-render-monitor{margin-bottom:0;padding-bottom:6px}}.article-block-container{display:flex;flex-direction:column;margin:0 auto;max-width:1150px}@media only screen and (max-width:1230px){.article-block-container{margin:0 15px}}.article-block-container .article-header h2{font:50px SchnyderS,Times New Roman,Times,serif;margin:92px 0 56px;text-align:left}.article-block-container .article-content-container{color:#333;display:inline-block}.article-block-container .article-image{display:flex;max-width:100%}.article-block-container .article-title{font:600 20px/26px EuclidCircularB,Arial,Helvetica,sans-serif;margin:20px 0 10px;text-align:left}.article-block-container .article-byline{font:14px/18px EuclidCircularB,Arial,Helvetica,sans-serif;margin:0;text-transform:uppercase}.article-block-wrapper{display:grid;gap:40px 65px;grid-template-columns:repeat(3,1fr);margin:0 auto}@media only screen and (max-width:1230px){.article-block-wrapper{grid-template-columns:repeat(2,1fr)}}a{text-decoration:none}.featured-articles{margin:0 auto}@media only screen and (max-width:768px){.featured-articles .left-rail{display:none}.article-block-container{margin:0 auto}.article-block-container .article-content-container{display:block;margin:0 15px;max-width:100%}.article-block-container .article-header h2{color:#333;font-size:40px;line-height:42px;margin:29px 0 32px;text-align:center}h3{margin:0}h3.article-title{font:600 21px/42px!important;padding-top:5px}.featured__article-mag{height:22em;margin:0 12px;min-width:95%}.article-block-wrapper{grid-template-columns:repeat(1,1fr)}}@media only screen and (max-width:320px){.article-block-container{width:100%}.article-block-wrapper{margin:0}}</style><title data-react-helmet=\"true\">Forbes Billionaires 2022: The Richest People In The World</title><link data-react-helmet=\"true\" href=\"https://i.forbesimg.com/favicon.ico\" rel=\"shortcut icon\"/><link data-react-helmet=\"true\" href=\"https://www.forbes.com/billionaires/\" rel=\"canonical\"/><script data-react-helmet=\"true\" type=\"application/ld+json\">\n",
      "\t\t\t\t\t{\n",
      "\t\t\t\t\t\t\"@context\": \"http://schema.org\",\n",
      "\t\t\t\t\t\t\"@type\":\"WebPage\",\n",
      "\t\t\t\t\t\t\"name\": \"Forbes Billionaires 2022: The Richest People In The World\",\n",
      "\t\t\t\t\t\t\"description\": \"The definitive list of the World's Billionaires, presented by Forbes\",\n",
      "          \t\"url\": \"https://www.forbes.com/billionaires/\",\n",
      "          \t\"text\": \"undefined\",\n",
      "\t\t\t\t\t\t\"image\": {\n",
      "\t\t\t\t\t\t\t\"@type\": \"ImageObject\",\n",
      "\t\t\t\t\t\t\t\"url\": \"https://images.forbes.com/Billies22/landing-16x9.jpg\"\n",
      "\t\t\t\t\t\t},\n",
      "\t\t\t\t\t\t\"publisher\": {\n",
      "\t\t\t\t\t\t\t\"@type\": \"Organization\",\n",
      "\t\t\t\t\t\t\t\"name\": \"Forbes\"\n",
      "\t\t\t\t\t\t}\n",
      "\t\t\t\t\t}\n",
      "\t\t\t\t</script><link as=\"script\" href=\"/billionaires/webpack-runtime-8f0bf72dcd5042ad19e4.js\" rel=\"preload\"/><link as=\"script\" href=\"/billionaires/framework-83335645c82b32a41235.js\" rel=\"preload\"/><link as=\"script\" href=\"/billionaires/app-6ae801e2f97c323e40d9.js\" rel=\"preload\"/><link as=\"script\" href=\"/billionaires/4a3ea9cd-30444c1fc7066ec7a54c.js\" rel=\"preload\"/><link as=\"script\" href=\"/billionaires/component---src-index-js-69bcf834088486586b9e.js\" rel=\"preload\"/><link as=\"fetch\" crossorigin=\"anonymous\" href=\"/billionaires/page-data/index/page-data.json\" rel=\"preload\"/><link as=\"fetch\" crossorigin=\"anonymous\" href=\"/billionaires/page-data/app-data.json\" rel=\"preload\"/></head><body><div id=\"___gatsby\"><div id=\"gatsby-focus-wrapper\" style=\"outline:none\" tabindex=\"-1\"><div class=\"page-wrapper\"><div class=\"content-wrapper\"><div class=\"title has-left-rail\"><div class=\"left-rail\"><div class=\"img-container\"></div><h1><img alt=\"Forbes World's Billionaires List 2022\" class=\"intro-heading\" src=\"https://www.forbes.com/assets/billionaires/Billionaires-headline-with-logo.svg\"/><span class=\"page-titles screenreader-only\">Forbes World's Billionaires List</span></h1><div class=\"hero-img__container\"></div><div><div class=\"intro-subheading\"><h2>The Richest in 2022</h2></div><div class=\"editors-block\"><div>Edited by <!-- -->Kerry A. Dolan</div><div>and Chase Peterson-Withorn</div></div><div class=\"heading-dot\"><div></div></div><div class=\"sponsored-block\"><div class=\"sponsored-text\">Presented By</div><img alt=\"Macallan\" class=\"sponsored-logo\" src=\"https://www.forbes.com/assets/billionaires/Richard-Mille-White.svg\"/></div><div class=\"social\"><div class=\"social__icons\"><div class=\"social__icon\"><div class=\"social__icon-link social__icon-link--facebook\" data-ga-track=\"forbes-social-facebook\"><div><svg class=\"fs-icon fs-icon--facebook\" viewbox=\"0 0 60 60\" xmlns=\"http://www.w3.org/2000/svg\"><path d=\"M32.9 49H25V30h-3.9v-6.6H25v-3.9c0-5.4 2.2-8.5 8.5-8.5h5.2v6.6h-3.3c-2.5 0-2.6.9-2.6 2.6v3.3h5.9l-.5 6.5H33v19h-.1z\"></path></svg></div></div></div><div class=\"social__icon\"><div class=\"social__icon-link social__icon-link--twitter\" data-ga-track=\"forbes-social-twitter\"><div><svg class=\"fs-icon fs-icon--twitter\" viewbox=\"0 0 60 60\" xmlns=\"http://www.w3.org/2000/svg\"><path d=\"M22.2 38.9c-3.4-.3-6.1-1.7-7.5-5.1h3.6c-3.9-1.4-5.6-4.3-5.9-8.4 1.2.6 2.3.7 3.5.7-2.1-1.6-3.6-3.4-3.7-6.1-.1-1.5.5-2.8 1.3-4 4.4 5 9.7 8.3 16.5 8.9v-2.7c.1-1.9.6-3.6 1.9-5.1 2.5-2.8 6.9-3.1 9.8-.7.2.2.5.4.7.6.2.2.4.2.7.2 1.1-.3 2-.9 3-1.4.5-.3 1.1-.6 1.7-1-.4 1.1-.9 2-1.5 2.8-.6.8-1.3 1.6-2.2 2.2 1.6-.2 3.2-.6 4.8-1.1-.3.4-.6.8-.9 1.1l-2.7 2.4c-.1.1-.2.3-.2.4.1 3.3-.6 6.5-1.9 9.6-1.9 4.2-4.7 7.5-8.6 9.9-2.5 1.5-5.2 2.4-8.1 2.9-5.5.8-10.5-.5-15.1-3.3-.1 0-.1-.1-.2-.1h.2c1.1.5 2.2.4 3.3.3 2.3-.2 4.5-.9 6.6-2.1l.9-.6v-.3z\"></path></svg></div></div></div><div class=\"social__icon\"><div class=\"social__icon-link social__icon-link--linkedin\" data-ga-track=\"forbes-social-linkedin\"><div><svg class=\"fs-icon fs-icon--linkedin\" viewbox=\"0 0 60 60\" xmlns=\"http://www.w3.org/2000/svg\"><path d=\"M44.9 33.2v11h-6.4V34c0-2.6-.9-4.3-3.2-4.3-1.8 0-2.8 1.2-3.3 2.3-.2.4-.2 1-.2 1.6v10.7h-6.4s.1-17.4 0-19.2h6.4V27.9v-.1c.8-1.3 2.4-3.2 5.8-3.2 4.1 0 7.3 2.7 7.3 8.6zM18.7 15.8c-2.2 0-3.6 1.4-3.6 3.3 0 1.8 1.4 3.3 3.5 3.3 2.2 0 3.6-1.5 3.6-3.3 0-1.9-1.3-3.3-3.5-3.3zm-3.2 28.4h6.4V25h-6.4v19.2z\"></path></svg></div></div></div><div class=\"social__icon\"><div class=\"social__icon-link social__icon-link--email\" data-ga-track=\"forbes-social-email\"><div><svg class=\"fs-icon fs-icon--email\" viewbox=\"0 0 20 20\" xmlns=\"http://www.w3.org/2000/svg\"><path class=\"fs-icon fs-icon--_xF106_\" d=\"M17 15.2H3.2l5.2-4.3.6.4c.3.3.7.4 1.1.4s.8-.1 1.1-.4l.6-.5 5.2 4.4zm.6-9.2v8l-4.8-4 4.8-4zm-15 8V6l4.8 4-4.8 4zm7.8-3.6c-.2.2-.4.2-.6 0L3.6 5.2h13l-6.2 5.2z\"></path></svg></div></div></div></div></div></div></div><div class=\"desktop-header-content\"><img alt=\"Bernard Arnault, Rihanna, Melanie Perkins, Elon Musk, Mukesh Ambani\" class=\"hero-image ratio16x9\" src=\"https://thumbor.forbes.com/thumbor/1500x0/smart/filters:format(jpeg)/https%3A%2F%2Fimages.forbes.com%2FBillies22%2Flanding-1500px.gif\"/><div class=\"heading-content\"><div class=\"intro-text\"><div><span class=\"dropcap\">W</span>ar, pandemic and sluggish markets hit the world’s billionaires this year. There are 2,668 of them on Forbes’ 36th-annual ranking of the planet’s richest people—87 fewer than a year ago. They’re worth a collective $12.7 trillion—$400 billion less than in 2021. The most dramatic drops have occurred in Russia, where there are 34 fewer billionaires than last year following Vladimir Putin’s invasion of Ukraine, and China, where a government crackdown on tech companies has led to 87 fewer Chinese billionaires on the list.Still, Forbes found more than 1,000 billionaires who are richer than they were a year ago. And 236 newcomers have become billionaires over the past year—including the first ever from Barbados, Bulgaria, Estonia and Uruguay. America still leads the world, with 735 billionaires worth a collective $4.7 trillion, including Elon Musk, who tops the World’s Billionaires list for the first time. China (including Macau and Hong Kong) remains number two, with 607 billionaires worth a collective $2.3 trillion. We used stock prices and exchange rates from March 11, 2022 to calculate net worths. See below for the full list of the world’s billionaires and our methodology. For daily updated net worths of all 2,668 billionaires, check out our <a href=\"http://forbes.com/real-time-billionaires\" target=\"_blank\">real-time billionaires rankings</a>.</div><div class=\"down-arrow\"><svg viewbox=\"0 0 268.8 414.6\" xmlns=\"http://www.w3.org/2000/svg\"><path d=\"M137.4 0v313.2c20.4-35.4 55.2-66 129.6-85.2l1.8 4.8c-62.4 30-119.4 131.4-131.4 181.8h-6C119.4 364.2 63 262.8 0 232.8l1.8-4.8c74.4 19.2 109.2 49.8 129.6 85.2V0z\" fill=\"currentColor\"></path></svg></div></div><div class=\"caption-credit caption-credit__mobile\" data-nosnippet=\"true\"><span class=\"caption-credit caption-credit__label\">Header Image:<!-- --> </span>Jamel Toppin for Forbes, Getty Taylor Hill/Getty Images, Dean MacKenzie for Forbes, Bill Pugliano/Getty Images, Chris Jackson/Getty Images</div><div class=\"caption-credit__container\"><p class=\"caption-credit caption-credit__desktop\" data-nosnippet=\"true\">Jamel Toppin for Forbes, Getty Taylor Hill/Getty Images, Dean MacKenzie for Forbes, Bill Pugliano/Getty Images, Chris Jackson/Getty Images</p><div class=\"pullquote\">MIXED BAG <br/> The number of billionaires worldwide fell, but 40% of those who remained got richer.</div></div></div></div></div><div class=\"initial-ad\"></div><div class=\"credits\"><div class=\"credits-container\"><div class=\"credits-item\"><div class=\"credits-text\"><h3 class=\"credits-item__title\">Methodology</h3><p class=\"credits-dek\">The Forbes World’s Billionaires list is a snapshot of wealth using stock prices and exchange rates from March 11, 2022. Some people become richer or poorer within days of publication. We list individuals rather than multigenerational families who share fortunes, though we include wealth belonging to a billionaire’s spouse and children if that person is the founder of the fortune. In some cases we list siblings or couples together if the ownership breakdown among them isn’t clear, but here an estimated net worth of $1 billion per person is needed to make the cut. We value a variety of assets, including private companies, real estate, art and more. We don’t pretend to know each billionaire’s private balance sheet (though some provide it). When documentation isn’t supplied or available, we discount fortunes. For daily updates of net worths, go to <a href=\"https://www.forbes.com/real-time-billionaires/\">www.forbes.com/real-time-billionaires</a>.</p></div></div><div class=\"credits-item\"><div class=\"credits-text\"><h3 class=\"credits-item__title\">Acknowledgements</h3><p class=\"credits-dek\">Special thanks to CBRE, FactSet Research Systems, LCH Investments, Orbis by Bureau Van Dijk, PitchBook Data, Real Capital Analytics, S&amp;P Capital IQ, VesselsValue and the other experts who helped us with our reporting and valuations, including George de Benedicty, Ocala Ranches; Ben Bienvenu, Stephens; Jurgen Brauer, Small Arms Analytics; Sebastian Bray, Berenberg; Jonathan Chappell, Evercore ISI; Rommel T. Dionisio, Aegis Capital Corp.; Truman Fleming; Randy Giveans, Jefferies; Seth Goldstein, Morningstar; Lars Haugen, CBRE; Ashley Helgans, Jefferies; Evelyn Hendrich, Hendrich Real Estate; Arpine Kocharyan, UBS; Jonathan Lamers, BMO Nesbitt Burns; Gail Lissner; Irene Luke, Savills Monaco; Jack McCabe; Alison McGavigan, JLL; Ross Moore, Cresa; Bruce Nash, Nash Information Services; Joel Paige; Alok Patel, Berenberg; Carrie Russell, HVS; James Rutherford, Stephens; Brian Sudano, Beverage Marketing Corporation; Tim Swannie, Home Hunts; Douglas B. Taylor; Andrea Teixeira, J.P. Morgan; Steph Wissink, Jefferies; Jeffrey Wlodarczak, Pivotal Research Group; Anastasia Yianni, Cyprus Sotheby's International Realty; Ian Zaffino, Oppenheimer &amp; Co.</p></div></div><div class=\"credits-item\"><div class=\"credits-text\"><h3 class=\"credits-item__title\">Credits</h3><p class=\"credits-dek\"><b>EDITOR:</b> Kerry A. Dolan<br/>\n",
      "<b>DEPUTY EDITOR:</b> Chase Peterson-Withorn<br/> <b>ASIA EDITOR:</b> Naazneen Karmali<br/>\n",
      "<b>COUNTRY EDITORS:</b> Russell Flannery, Jane Ho, Luisa Kroll, Natalie Robehmed<br/>\n",
      "<b>WEALTH TEAM:</b> Richard J. Chang, David Dawkins, Matt Durot, Eliza Haverstock, Cole Horton, John Hyatt, Belle Long, Jemima McEvoy, Andrea Murphy, James O’Donnell, Rachel Sandler, Giacomo Tognini, Gigi Zamora and reporters at Forbes-licensed editions in the Czech Republic, Hungary, Israel, Kazakhstan, Mexico, Poland, Romania, Russia, Slovakia and Ukraine, and Affärsvärlden of Sweden.<br/>\n",
      "<b>REPORTERS:</b> Dan Alexander, Anderson Antunes, Angel Au-Yeung, Megha Bahree, Nina Bambysheva, Karina Barrymore, Margherita Beale, Justin Birnbaum, Tim Boreham, Igor Bosilkovski, Thomas Brewster, Jonathan Burgos, Kenrick Cai, Nilgun Cavdar, Shu-Ching Jean Chen, Isabel Contreras, Lauren Debter, Michael del Castillo, Steven Ehrlich, Amy Feldman, Gloria Haraito, Chris Helman, Alvaro Hernandez Zorrilla, Katie Jennings, John Kang, Jeff Kauflin, Alex Knapp, Alex Konrad, Eunice Lam, Zinnia Lee, Pudji Lestari, Nicole Lindsay, Katherine Love, Iain Martin, Anis Shakirah Mohd Muslimin, Lan Anh Nguyen, Robert Olsen, Phisanu Phromchanya, Jonathan Ponciano, Aayushi Pratap, Marella Putri, Anu Raghunathan, Yessar Rosendar, Leonard Schoenberger, James Simms, Chloe Sorvino, Deborah Steinborn,  Jessica Tan, Michela Tindera, Hank Tucker, Ozer Turan, Simran Vaswani, Lisette Voytko, Catherine Wang, Yue Wang, Ardian Wibisono, Rachel Williamson, Candice Wong, Will Yakowicz, January Yen, Itai Zehorai.<br/>\n",
      "<b>RESEARCH:</b> Sue Radlauer<br/> <b>EDITORIAL OPERATIONS: </b>Justin Conklin<br/>\n",
      "<b>DESIGN DIRECTOR:</b> Alicia Hallett-Chan<br/>\n",
      "<b>DIRECTOR OF PHOTOGRAPHY:</b> Robyn Selman<br/>\n",
      "<b>PHOTO RESEARCH:</b> Merrilee Barton, Gail Toivanen<br/>\n",
      "<b>DESIGN:</b> Fernando Capeto, Stephanie Jones, James Kim, Nick Sheeran, Philip Smith<br/>\n",
      "<b>VIDEO PRODUCERS:</b> Meg Christensen, Matt Kang, Juliet Muir, Jon Palmer, Kirsten Taggart <br/>\n",
      "<b>VIDEO DIRECTORS:</b> Greg Andersson, Ivan Clow, Riley Hallaway, Bernard Osei, Morgan Sun<br/>\n",
      "<b>PRODUCT:</b> Autumn Jones<br/>\n",
      "<b>ENGINEERING:</b> Gustavo Faria, Mays Shatnawi, Dmitri Slavinsky<br/>\n",
      "<b>QA:</b> Waed Mousa, Ronak Ray</p></div></div></div></div></div></div></div><div aria-atomic=\"true\" aria-live=\"assertive\" id=\"gatsby-announcer\" style=\"position:absolute;top:0;width:1px;height:1px;padding:0;overflow:hidden;clip:rect(0, 0, 0, 0);white-space:nowrap;border:0\"></div></div><script id=\"gatsby-script-loader\">/*<![CDATA[*/window.pagePath=\"/\";window.___webpackCompilationHash=\"c76b9d914f6d53f570b0\";/*]]>*/</script><script id=\"gatsby-chunk-mapping\">/*<![CDATA[*/window.___chunkMapping={\"polyfill\":[\"/polyfill-38b607bf62b5e383d665.js\"],\"app\":[\"/app-6ae801e2f97c323e40d9.js\"],\"component---src-index-js\":[\"/component---src-index-js-69bcf834088486586b9e.js\"]};/*]]>*/</script><script nomodule=\"\" src=\"/billionaires/polyfill-38b607bf62b5e383d665.js\"></script><script async=\"\" src=\"/billionaires/component---src-index-js-69bcf834088486586b9e.js\"></script><script async=\"\" src=\"/billionaires/4a3ea9cd-30444c1fc7066ec7a54c.js\"></script><script async=\"\" src=\"/billionaires/app-6ae801e2f97c323e40d9.js\"></script><script async=\"\" src=\"/billionaires/framework-83335645c82b32a41235.js\"></script><script async=\"\" src=\"/billionaires/webpack-runtime-8f0bf72dcd5042ad19e4.js\"></script></body></html>\n"
     ]
    }
   ],
   "source": [
    "print(content)"
   ]
  },
  {
   "cell_type": "code",
   "execution_count": 143,
   "id": "57685792",
   "metadata": {},
   "outputs": [],
   "source": [
    "Rank=content.find_all('div',class_=\"rank\")\n",
    "Name=content.find_all('div',{\"class\":\"personName\"})\n",
    "Networth=content.find_all('div',{\"class\":\"netWorth\"})\n",
    "Age=content.find_all('div',{\"class\":\"age\"})\n",
    "Citizenship=content.find_all('div',{\"class\":\"countryOfCitizenship \"})\n",
    "Source=content.find_all('div',{\"class\":\"source\"})\n",
    "Industry=content.find_all('div',{\"class\":\"category\"})"
   ]
  },
  {
   "cell_type": "code",
   "execution_count": 144,
   "id": "82130f13",
   "metadata": {},
   "outputs": [],
   "source": [
    "Rn=[]\n",
    "nm=[]\n",
    "Ag=[]\n",
    "Citi_s=[]\n",
    "Sc=[]\n",
    "Id=[]"
   ]
  },
  {
   "cell_type": "code",
   "execution_count": 145,
   "id": "3e8695ae",
   "metadata": {},
   "outputs": [],
   "source": [
    "for i in Rank:\n",
    "    Rn.append(i.text)\n",
    "for i in Name:\n",
    "    nm.append(i.text)\n",
    "for i in Age:\n",
    "    Ag.append(i.text)\n",
    "for i in Citizenship :\n",
    "    Citi_s.append(i.text)\n",
    "for i in Source:\n",
    "    Sc.append(i.text)    \n",
    "for i in Industry:\n",
    "    Id.append(i.text) "
   ]
  },
  {
   "cell_type": "code",
   "execution_count": 146,
   "id": "982afa91",
   "metadata": {},
   "outputs": [],
   "source": [
    "data={'RANK':Rn,'NAME':nm, 'AGE':Ag, 'CITIZENSHIP':Citi_s, 'SOURCE':Sc, 'INDUSTRY':Id,}\n",
    "df=pd.DataFrame(data)"
   ]
  },
  {
   "cell_type": "code",
   "execution_count": 147,
   "id": "3fb248ff",
   "metadata": {},
   "outputs": [
    {
     "name": "stdout",
     "output_type": "stream",
     "text": [
      "Empty DataFrame\n",
      "Columns: [RANK, NAME, AGE, CITIZENSHIP, SOURCE, INDUSTRY]\n",
      "Index: []\n"
     ]
    }
   ],
   "source": [
    "print(df)"
   ]
  },
  {
   "cell_type": "code",
   "execution_count": null,
   "id": "a7371c77",
   "metadata": {},
   "outputs": [],
   "source": []
  },
  {
   "cell_type": "markdown",
   "id": "8fb17ae2",
   "metadata": {},
   "source": [
    "# Q9 : Write a program to extract at least 500 Comments, Comment upvote and time when comment was posted from any YouTube Video."
   ]
  },
  {
   "cell_type": "code",
   "execution_count": 123,
   "id": "62e9a316",
   "metadata": {},
   "outputs": [],
   "source": [
    "# opening the youtube.com\n",
    "\n",
    "url = \"https://www.youtube.com/\"\n",
    "driver.get(url)\n",
    "time.sleep(2)"
   ]
  },
  {
   "cell_type": "code",
   "execution_count": 130,
   "id": "d111d0eb",
   "metadata": {},
   "outputs": [
    {
     "ename": "SyntaxError",
     "evalue": "EOL while scanning string literal (Temp/ipykernel_24844/1224825411.py, line 2)",
     "output_type": "error",
     "traceback": [
      "\u001b[1;36m  File \u001b[1;32m\"C:\\Users\\satya\\AppData\\Local\\Temp/ipykernel_24844/1224825411.py\"\u001b[1;36m, line \u001b[1;32m2\u001b[0m\n\u001b[1;33m    search_bar = driver.find_element(By.XPATH,\"//div[@class='ytd-searchbox-spt'])\u001b[0m\n\u001b[1;37m                                                                                 ^\u001b[0m\n\u001b[1;31mSyntaxError\u001b[0m\u001b[1;31m:\u001b[0m EOL while scanning string literal\n"
     ]
    }
   ],
   "source": [
    "# finding element for search bar\n",
    "search_bar = driver.find_element(By.XPATH,\"//div[@class='ytd-searchbox-spt']\")\n",
    "search_bar.send_keys(\"GOT\")      # entering video name\n",
    "time.sleep(2)"
   ]
  },
  {
   "cell_type": "code",
   "execution_count": null,
   "id": "26f2c82a",
   "metadata": {},
   "outputs": [],
   "source": [
    "#clicking on search button\n",
    "search_btn = driver.find_element(By.XPATH, \"search-icon-legacy\")\n",
    "search_btn.click()\n",
    "time.sleep(2)"
   ]
  },
  {
   "cell_type": "code",
   "execution_count": null,
   "id": "ebf6d4a8",
   "metadata": {},
   "outputs": [],
   "source": [
    "# clicking on first video\n",
    "video = driver.find_element(By.XPATH,\"//yt-formatted-string[@class='style-scope ytd-video-renderer']\")\n",
    "video.click()\n",
    "\n",
    "# 1000 times we scroll down by 10000 in order to generate more comments\n",
    "for _ in range(1000):\n",
    "    driver.execute_script(\"window.scrollBy(0,10000)\")"
   ]
  },
  {
   "cell_type": "code",
   "execution_count": null,
   "id": "3d793960",
   "metadata": {},
   "outputs": [],
   "source": [
    "# creating empty lists\n",
    "comments = []\n",
    "comment_time = []\n",
    "Time = []\n",
    "Likes = []\n",
    "No_of_Likes = []\n",
    "\n",
    "# scrape comments\n",
    "cm = driver.find_element(By.XPATH,\"content-text\")\n",
    "for i in cm:\n",
    "    if i.text is None:\n",
    "        comments.append(\"--\")\n",
    "    else:\n",
    "        comments.append(i.text)\n",
    "time.sleep(4)\n",
    "\n",
    "\n",
    "# scrape time when comment was posted\n",
    "tm = driver.find_element(By.XPATH, \"//a[contains(text(),'ago')]\")\n",
    "for i in tm:\n",
    "    Time.append(i.text)\n",
    "    \n",
    "for i in range(0,len(Time),2):\n",
    "    comment_time.append(Time[i])\n",
    "time.sleep(4)\n",
    "\n",
    "\n",
    "# scrape the comment likes\n",
    "like = driver.find_element(By.XPATH,\"//span[@class='style-scope ytd-comment-action-buttons-renderer']\")\n",
    "for i in like:\n",
    "    Likes.append(i.text)\n",
    "    \n",
    "for i in range(1,len(Likes),2):\n",
    "    No_of_Likes.append(Likes[i])"
   ]
  },
  {
   "cell_type": "code",
   "execution_count": 135,
   "id": "c7b10395",
   "metadata": {},
   "outputs": [
    {
     "ename": "NameError",
     "evalue": "name 'comment' is not defined",
     "output_type": "error",
     "traceback": [
      "\u001b[1;31m---------------------------------------------------------------------------\u001b[0m",
      "\u001b[1;31mNameError\u001b[0m                                 Traceback (most recent call last)",
      "\u001b[1;32m~\\AppData\\Local\\Temp/ipykernel_24844/25377309.py\u001b[0m in \u001b[0;36m<module>\u001b[1;34m\u001b[0m\n\u001b[1;32m----> 1\u001b[1;33m \u001b[0mprint\u001b[0m\u001b[1;33m(\u001b[0m\u001b[0mlen\u001b[0m\u001b[1;33m(\u001b[0m\u001b[0mcomment\u001b[0m\u001b[1;33m)\u001b[0m\u001b[1;33m,\u001b[0m\u001b[0mlen\u001b[0m\u001b[1;33m(\u001b[0m\u001b[0mcomment_time\u001b[0m\u001b[1;33m)\u001b[0m\u001b[1;33m,\u001b[0m\u001b[0mlen\u001b[0m\u001b[1;33m(\u001b[0m\u001b[0mNo_of_Likes\u001b[0m\u001b[1;33m)\u001b[0m\u001b[1;33m)\u001b[0m\u001b[1;33m\u001b[0m\u001b[1;33m\u001b[0m\u001b[0m\n\u001b[0m",
      "\u001b[1;31mNameError\u001b[0m: name 'comment' is not defined"
     ]
    }
   ],
   "source": [
    "print(len(comment),len(comment_time),len(No_of_Likes))"
   ]
  },
  {
   "cell_type": "code",
   "execution_count": 136,
   "id": "264ed046",
   "metadata": {},
   "outputs": [
    {
     "ename": "NameError",
     "evalue": "name 'comments' is not defined",
     "output_type": "error",
     "traceback": [
      "\u001b[1;31m---------------------------------------------------------------------------\u001b[0m",
      "\u001b[1;31mNameError\u001b[0m                                 Traceback (most recent call last)",
      "\u001b[1;32m~\\AppData\\Local\\Temp/ipykernel_24844/1534246243.py\u001b[0m in \u001b[0;36m<module>\u001b[1;34m\u001b[0m\n\u001b[0;32m      2\u001b[0m \u001b[1;33m\u001b[0m\u001b[0m\n\u001b[0;32m      3\u001b[0m \u001b[0mYoutube\u001b[0m \u001b[1;33m=\u001b[0m \u001b[0mpd\u001b[0m\u001b[1;33m.\u001b[0m\u001b[0mDataFrame\u001b[0m\u001b[1;33m(\u001b[0m\u001b[1;33m{\u001b[0m\u001b[1;33m}\u001b[0m\u001b[1;33m)\u001b[0m\u001b[1;33m\u001b[0m\u001b[1;33m\u001b[0m\u001b[0m\n\u001b[1;32m----> 4\u001b[1;33m \u001b[0mYoutube\u001b[0m\u001b[1;33m[\u001b[0m\u001b[1;34m'Comment'\u001b[0m\u001b[1;33m]\u001b[0m \u001b[1;33m=\u001b[0m \u001b[0mcomments\u001b[0m\u001b[1;33m[\u001b[0m\u001b[1;33m:\u001b[0m\u001b[1;36m500\u001b[0m\u001b[1;33m]\u001b[0m\u001b[1;33m\u001b[0m\u001b[1;33m\u001b[0m\u001b[0m\n\u001b[0m\u001b[0;32m      5\u001b[0m \u001b[0mYoutube\u001b[0m\u001b[1;33m[\u001b[0m\u001b[1;34m'Comment Time'\u001b[0m\u001b[1;33m]\u001b[0m \u001b[1;33m=\u001b[0m \u001b[0mcomment_time\u001b[0m\u001b[1;33m[\u001b[0m\u001b[1;33m:\u001b[0m\u001b[1;36m500\u001b[0m\u001b[1;33m]\u001b[0m\u001b[1;33m\u001b[0m\u001b[1;33m\u001b[0m\u001b[0m\n\u001b[0;32m      6\u001b[0m \u001b[0mYoutube\u001b[0m\u001b[1;33m[\u001b[0m\u001b[1;34m'Comment Upvotes'\u001b[0m\u001b[1;33m]\u001b[0m \u001b[1;33m=\u001b[0m \u001b[0mNo_of_Likes\u001b[0m\u001b[1;33m[\u001b[0m\u001b[1;33m:\u001b[0m\u001b[1;36m500\u001b[0m\u001b[1;33m]\u001b[0m\u001b[1;33m\u001b[0m\u001b[1;33m\u001b[0m\u001b[0m\n",
      "\u001b[1;31mNameError\u001b[0m: name 'comments' is not defined"
     ]
    }
   ],
   "source": [
    "# creating dataframe for scraped data\n",
    "\n",
    "Youtube = pd.DataFrame({})\n",
    "Youtube['Comment'] = comments[:500]\n",
    "Youtube['Comment Time'] = comment_time[:500]\n",
    "Youtube['Comment Upvotes'] = No_of_Likes[:500]\n",
    "Youtube"
   ]
  },
  {
   "cell_type": "code",
   "execution_count": null,
   "id": "cbc04dd7",
   "metadata": {},
   "outputs": [],
   "source": []
  },
  {
   "cell_type": "markdown",
   "id": "ff5eda75",
   "metadata": {},
   "source": [
    "# Q10 : Write a python program to scrape a data for all available Hostels from https://www.hostelworld.com/ in “London” location. You have to scrape hostel name, distance from city centre, ratings, total reviews, overall reviews, privates from price, dorms from price, facilities and property description."
   ]
  },
  {
   "cell_type": "code",
   "execution_count": 91,
   "id": "3fee249b",
   "metadata": {},
   "outputs": [],
   "source": [
    "# connecting to the webdriver\n",
    "driver = webdriver.Chrome(service=Service(ChromeDriverManager().install()))\n",
    "\n",
    "# getting the web page of mentioned url\n",
    "url = \"https://www.hostelworld.com/s?q=London,%20England&city=London&country=England&type=city&id=3&from=2022-09-03&to=2022-09-06&guests=2&page=1\"\n",
    "driver.get(url)\n",
    "time.sleep(3)"
   ]
  },
  {
   "cell_type": "code",
   "execution_count": null,
   "id": "7700fbe9",
   "metadata": {},
   "outputs": [],
   "source": [
    "# locating the location search bar\n",
    "\n",
    "search_bar = driver.find_element(By.XPATH, \"data-v-27e7e6c3\")\n",
    "\n",
    "# entering London in search bar\n",
    "search_bar.send_keys(\"London\")"
   ]
  },
  {
   "cell_type": "code",
   "execution_count": null,
   "id": "c819ee92",
   "metadata": {},
   "outputs": [],
   "source": [
    "# select London\n",
    "London = driver.find_element(By.XPATH, \"//ul['predicted-search-results']\")\n",
    "\n",
    "#clicking on button\n",
    "London.click()\n",
    "\n",
    "\n",
    "# do click on Let's Go button\n",
    "\n",
    "search_btn = driver.find_element(By.XPATH, \"search-button\")\n",
    "search_btn.click()"
   ]
  },
  {
   "cell_type": "code",
   "execution_count": 117,
   "id": "a87d86ee",
   "metadata": {},
   "outputs": [],
   "source": [
    "# creating empty list & find required data\n",
    "hostel_name = []\n",
    "distance = []\n",
    "pvt_prices = []\n",
    "dorms_price = []\n",
    "rating = []\n",
    "reviews = []\n",
    "over_all = []\n",
    "facilities = []\n",
    "description = []\n",
    "url = []"
   ]
  },
  {
   "cell_type": "code",
   "execution_count": 119,
   "id": "49188833",
   "metadata": {},
   "outputs": [
    {
     "ename": "TypeError",
     "evalue": "'WebElement' object is not iterable",
     "output_type": "error",
     "traceback": [
      "\u001b[1;31m---------------------------------------------------------------------------\u001b[0m",
      "\u001b[1;31mTypeError\u001b[0m                                 Traceback (most recent call last)",
      "\u001b[1;32m~\\AppData\\Local\\Temp/ipykernel_24844/1116032994.py\u001b[0m in \u001b[0;36m<module>\u001b[1;34m\u001b[0m\n\u001b[0;32m      1\u001b[0m \u001b[1;31m# scraping the required informations\u001b[0m\u001b[1;33m\u001b[0m\u001b[1;33m\u001b[0m\u001b[0m\n\u001b[1;32m----> 2\u001b[1;33m \u001b[1;32mfor\u001b[0m \u001b[0mi\u001b[0m \u001b[1;32min\u001b[0m \u001b[0mdriver\u001b[0m\u001b[1;33m.\u001b[0m\u001b[0mfind_element\u001b[0m\u001b[1;33m(\u001b[0m\u001b[0mBy\u001b[0m\u001b[1;33m.\u001b[0m\u001b[0mXPATH\u001b[0m\u001b[1;33m,\u001b[0m\u001b[1;34m\"//div[@class='pagination-item pagination-current' or @class='pagination-item']\"\u001b[0m\u001b[1;33m)\u001b[0m\u001b[1;33m:\u001b[0m\u001b[1;33m\u001b[0m\u001b[1;33m\u001b[0m\u001b[0m\n\u001b[0m\u001b[0;32m      3\u001b[0m     \u001b[0mi\u001b[0m\u001b[1;33m.\u001b[0m\u001b[0mclick\u001b[0m\u001b[1;33m(\u001b[0m\u001b[1;33m)\u001b[0m\u001b[1;33m\u001b[0m\u001b[1;33m\u001b[0m\u001b[0m\n\u001b[0;32m      4\u001b[0m     \u001b[0mtime\u001b[0m\u001b[1;33m.\u001b[0m\u001b[0msleep\u001b[0m\u001b[1;33m(\u001b[0m\u001b[1;36m3\u001b[0m\u001b[1;33m)\u001b[0m\u001b[1;33m\u001b[0m\u001b[1;33m\u001b[0m\u001b[0m\n\u001b[0;32m      5\u001b[0m \u001b[1;33m\u001b[0m\u001b[0m\n",
      "\u001b[1;31mTypeError\u001b[0m: 'WebElement' object is not iterable"
     ]
    }
   ],
   "source": [
    "# scraping the required informations\n",
    "for i in driver.find_element(By.XPATH,\"//div[@class='pagination-item pagination-current' or @class='pagination-item']\"):\n",
    "    i.click()\n",
    "    time.sleep(3)\n",
    "    \n",
    "    \n",
    "    # scraping  hostel name\n",
    "    try:\n",
    "        name = driver.find_element(By.XPATH,\"//h2[@class='title title-6']\")\n",
    "        for i in name:\n",
    "            hostel_name.append(i.text)\n",
    "    except NoSuchElementException:\n",
    "        hostel_name.append('-')\n",
    "        \n",
    "        \n",
    "    # scraping distance from city centre\n",
    "    try:\n",
    "        dist = driver.find_element(By.XPATH, \"//div[@class='subtitle body-3']//a//span[1]\")\n",
    "        for i in name:\n",
    "            distance.append(i.text.replace('Hostel - ',''))\n",
    "    except NoSuchElementException:\n",
    "        distance.append('-')\n",
    "        \n",
    "   \n",
    "    for i in driver.find_element(By.XPATH, \"//div[@class='prices-col']\"):   \n",
    "    # scraping privates from price\n",
    "        try:\n",
    "            pvt_price = driver.find_element(By.XPATH,\"//a[@class='prices']//div[1]//div\")\n",
    "            pvt_prices.append(pvt_price.text)\n",
    "        except NoSuchElementException:\n",
    "            pvt_prices.append('-')\n",
    "   \n",
    "\n",
    "    for i in driver.find_element(By.XPATH,\"//div[@class='prices-col']\"):          \n",
    "    # scraping dorms from price\n",
    "        try:\n",
    "            dorms = driver.find_element(By.XPATH,\"//a[@class='prices']//div[2]/div\")\n",
    "            dorms_price.append(dorms.text)\n",
    "        except NoSuchElementException:\n",
    "            dorms_price.append('-')"
   ]
  },
  {
   "cell_type": "code",
   "execution_count": 120,
   "id": "fcc232ee",
   "metadata": {},
   "outputs": [
    {
     "ename": "IndentationError",
     "evalue": "unexpected indent (Temp/ipykernel_24844/1247596691.py, line 2)",
     "output_type": "error",
     "traceback": [
      "\u001b[1;36m  File \u001b[1;32m\"C:\\Users\\satya\\AppData\\Local\\Temp/ipykernel_24844/1247596691.py\"\u001b[1;36m, line \u001b[1;32m2\u001b[0m\n\u001b[1;33m    try:\u001b[0m\n\u001b[1;37m    ^\u001b[0m\n\u001b[1;31mIndentationError\u001b[0m\u001b[1;31m:\u001b[0m unexpected indent\n"
     ]
    }
   ],
   "source": [
    " # scraping facilities\n",
    "    try:\n",
    "        fac1 = driver.find_element(By.XPATH, \"//div[@class='has-wifi']\")\n",
    "        fac2 = driver.find_element(By.XPATH, \"//div[@class='has-sanitation']\")\n",
    "        for i in fac1:\n",
    "            for j in fac2:\n",
    "                facilities.append(i.text +', '+ j.text)\n",
    "    except NoSuchElementException:\n",
    "        facilities.append('-')\n",
    "     \n",
    "            \n",
    "    #fetching url of each hostel\n",
    "    p_url = driver.find_element(By.XPATH,\"//div[@class='prices-col']//a[2]\")\n",
    "    for i in p_url:\n",
    "        url.append(i.get_attribute(\"href\"))\n",
    "        \n",
    "for i in url:\n",
    "    driver.get(i)\n",
    "    time.sleep(3)\n",
    "    \n",
    "\n",
    "    # scraping ratings\n",
    "    try:\n",
    "        rat = driver.find_element(By.XPATH, \"//div[@class='score orange big' or @class='score gray big']\")\n",
    "        rating.append(rat.text)\n",
    "    except NoSuchElementException:\n",
    "        rating.append('-')\n",
    "        \n",
    "        \n",
    "    # scraping total review\n",
    "    try:\n",
    "        rws = driver.find_element(By.XPATH, \"//div[@class='reviews']\")\n",
    "        reviews.append(rws.text.replace('Total Reviews',''))\n",
    "    except NoSuchElementException:\n",
    "        reviews.append('-')\n",
    "        \n",
    "        \n",
    "    # fetching over all review\n",
    "    try:\n",
    "        overall = driver.find_element(By.XPATH, \"//div[@class='keyword']//span\")\n",
    "        over_all.append(overall.text)\n",
    "    except NoSuchElementException:\n",
    "        over_all.append('-')\n",
    "        \n",
    "        \n",
    "    # fetching property description\n",
    "    try:\n",
    "        disc = driver.find_element(By.XPATH, \"//div[@class='content']\")\n",
    "        description.append(disc.text)\n",
    "    except NoSuchElementException:\n",
    "        over_all.append('-')\n",
    "    \n",
    "    # do click on show more button for description\n",
    "    try:\n",
    "        driver.driver.find_element(By.XPATH,\"//a[@class='toggle-content']\").click()\n",
    "        time.sleep(4)\n",
    "    except NoSuchElementException:\n",
    "        pass"
   ]
  },
  {
   "cell_type": "code",
   "execution_count": 121,
   "id": "8ac5fa5f",
   "metadata": {},
   "outputs": [
    {
     "name": "stdout",
     "output_type": "stream",
     "text": [
      "0 0 0 0 0 0 0 0 0 0\n"
     ]
    }
   ],
   "source": [
    "print(len(hostel_name),\n",
    "len(distance),\n",
    "len(pvt_prices),\n",
    "len(dorms_price),\n",
    "len(rating),\n",
    "len(reviews),\n",
    "len(over_all),\n",
    "len(facilities),\n",
    "len(description),\n",
    "len(url))"
   ]
  },
  {
   "cell_type": "code",
   "execution_count": 122,
   "id": "72e96047",
   "metadata": {},
   "outputs": [
    {
     "data": {
      "text/html": [
       "<div>\n",
       "<style scoped>\n",
       "    .dataframe tbody tr th:only-of-type {\n",
       "        vertical-align: middle;\n",
       "    }\n",
       "\n",
       "    .dataframe tbody tr th {\n",
       "        vertical-align: top;\n",
       "    }\n",
       "\n",
       "    .dataframe thead th {\n",
       "        text-align: right;\n",
       "    }\n",
       "</style>\n",
       "<table border=\"1\" class=\"dataframe\">\n",
       "  <thead>\n",
       "    <tr style=\"text-align: right;\">\n",
       "      <th></th>\n",
       "      <th>Hostel Name</th>\n",
       "      <th>Distance from City Centre</th>\n",
       "      <th>Ratings</th>\n",
       "      <th>Total Reviews</th>\n",
       "      <th>Overall Reviews</th>\n",
       "      <th>Privates from Price</th>\n",
       "      <th>Dorms from Price</th>\n",
       "      <th>Facilities</th>\n",
       "      <th>Description</th>\n",
       "    </tr>\n",
       "  </thead>\n",
       "  <tbody>\n",
       "  </tbody>\n",
       "</table>\n",
       "</div>"
      ],
      "text/plain": [
       "Empty DataFrame\n",
       "Columns: [Hostel Name, Distance from City Centre, Ratings, Total Reviews, Overall Reviews, Privates from Price, Dorms from Price, Facilities, Description]\n",
       "Index: []"
      ]
     },
     "execution_count": 122,
     "metadata": {},
     "output_type": "execute_result"
    }
   ],
   "source": [
    "# creating DataFrame\n",
    "Hostel = pd.DataFrame({})\n",
    "Hostel['Hostel Name'] = hostel_name\n",
    "Hostel['Distance from City Centre'] = distance\n",
    "Hostel['Ratings'] = rating\n",
    "Hostel['Total Reviews'] = reviews\n",
    "Hostel['Overall Reviews'] = over_all\n",
    "Hostel['Privates from Price'] = pvt_prices\n",
    "Hostel['Dorms from Price'] = dorms_price\n",
    "Hostel['Facilities'] = facilities[:74]\n",
    "Hostel['Description'] = description\n",
    "Hostel"
   ]
  },
  {
   "cell_type": "code",
   "execution_count": null,
   "id": "60260896",
   "metadata": {},
   "outputs": [],
   "source": []
  }
 ],
 "metadata": {
  "kernelspec": {
   "display_name": "Python 3 (ipykernel)",
   "language": "python",
   "name": "python3"
  },
  "language_info": {
   "codemirror_mode": {
    "name": "ipython",
    "version": 3
   },
   "file_extension": ".py",
   "mimetype": "text/x-python",
   "name": "python",
   "nbconvert_exporter": "python",
   "pygments_lexer": "ipython3",
   "version": "3.9.7"
  }
 },
 "nbformat": 4,
 "nbformat_minor": 5
}
